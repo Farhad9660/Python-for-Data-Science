{
 "cells": [
  {
   "cell_type": "markdown",
   "id": "ee43eb72",
   "metadata": {},
   "source": [
    " \n",
    "\n",
    "<div class=\"alert alert-info\">\n",
    "  <h1>Session 2: Flow Control, Strings and Lists</h1>\n",
    "</div>"
   ]
  },
  {
   "cell_type": "markdown",
   "id": "833e7677",
   "metadata": {},
   "source": [
    "# Flow Control"
   ]
  },
  {
   "cell_type": "markdown",
   "id": "97f4e6dc",
   "metadata": {},
   "source": [
    "## Conditional structures"
   ]
  },
  {
   "cell_type": "markdown",
   "id": "f4f96420",
   "metadata": {},
   "source": [
    "#### if (cond) :\n",
    "       Statement\n",
    "     else:\n",
    "       Statement\n",
    "       "
   ]
  },
  {
   "cell_type": "code",
   "execution_count": 50,
   "id": "e90d44eb",
   "metadata": {},
   "outputs": [
    {
     "name": "stdout",
     "output_type": "stream",
     "text": [
      "yes\n"
     ]
    }
   ],
   "source": [
    "a = 3\n",
    "b = 4\n",
    "if (a<b):\n",
    "    print ('yes')"
   ]
  },
  {
   "cell_type": "code",
   "execution_count": 51,
   "id": "15ec6e90",
   "metadata": {},
   "outputs": [
    {
     "name": "stdout",
     "output_type": "stream",
     "text": [
      "Yes\n"
     ]
    }
   ],
   "source": [
    "a = 3\n",
    "b = 4\n",
    "if (a<b):\n",
    "    print ('Yes')\n",
    "else:\n",
    "    print ('No')"
   ]
  },
  {
   "cell_type": "code",
   "execution_count": 52,
   "id": "776ae92a",
   "metadata": {
    "scrolled": true
   },
   "outputs": [
    {
     "name": "stdout",
     "output_type": "stream",
     "text": [
      "No\n"
     ]
    }
   ],
   "source": [
    "a = 3\n",
    "b = 1\n",
    "if (a<b):\n",
    "    print ('Yes')\n",
    "else:\n",
    "    print ('No')"
   ]
  },
  {
   "cell_type": "code",
   "execution_count": 56,
   "id": "24d82e95",
   "metadata": {},
   "outputs": [
    {
     "name": "stdout",
     "output_type": "stream",
     "text": [
      "No\n"
     ]
    }
   ],
   "source": [
    "c = (a<b)\n",
    "if (c):\n",
    "    print ('Yes')\n",
    "else:\n",
    "    print ('No')"
   ]
  },
  {
   "cell_type": "code",
   "execution_count": 53,
   "id": "3e5cdfd7",
   "metadata": {},
   "outputs": [
    {
     "name": "stdout",
     "output_type": "stream",
     "text": [
      "old\n"
     ]
    }
   ],
   "source": [
    "age = 56\n",
    "if (age<35):\n",
    "    print('young')\n",
    "elif (age>= 25 and age < 50):\n",
    "    print ('middle')\n",
    "else:\n",
    "    print('old')"
   ]
  },
  {
   "cell_type": "markdown",
   "id": "01ddba65",
   "metadata": {},
   "source": [
    "## loops"
   ]
  },
  {
   "cell_type": "markdown",
   "id": "2d535263",
   "metadata": {},
   "source": [
    "### While loops"
   ]
  },
  {
   "cell_type": "markdown",
   "id": "bc70e51f",
   "metadata": {},
   "source": [
    "#### while (cond) :\n",
    "        Statement\n",
    " "
   ]
  },
  {
   "cell_type": "code",
   "execution_count": 71,
   "id": "6909aaf8",
   "metadata": {},
   "outputs": [
    {
     "name": "stdout",
     "output_type": "stream",
     "text": [
      "*\n",
      "*\n",
      "*\n",
      "*\n",
      "*\n",
      "*\n",
      "*\n",
      "*\n",
      "*\n",
      "*\n"
     ]
    }
   ],
   "source": [
    "n = 0\n",
    "while ( n<10):\n",
    "    print('*')\n",
    "    n = n+1"
   ]
  },
  {
   "cell_type": "code",
   "execution_count": 73,
   "id": "d5f92c32",
   "metadata": {},
   "outputs": [
    {
     "name": "stdout",
     "output_type": "stream",
     "text": [
      "*   *   *   *   *   *   *   *   *   *   "
     ]
    }
   ],
   "source": [
    "n = 0\n",
    "while ( n<10):\n",
    "    print('*', end =\"   \")\n",
    "    n = n+1\n"
   ]
  },
  {
   "cell_type": "code",
   "execution_count": 74,
   "id": "6e16a007",
   "metadata": {},
   "outputs": [
    {
     "name": "stdout",
     "output_type": "stream",
     "text": [
      "*   *   *   *   *   *   *   *   *   *   *   *   *   *   *   *   *   *   *   *   *   *   *   *   *   *   *   *   *   *   *   *   *   *   *   *   *   *   *   *   *   *   *   *   *   *   *   *   *   *   n is 50 now\n"
     ]
    }
   ],
   "source": [
    "### break\n",
    "n = 0\n",
    "while ( n<100):\n",
    "    print('*', end =\"   \")\n",
    "    n = n+1\n",
    "    if (n==50):\n",
    "        break\n",
    "print ('n is 50 now')"
   ]
  },
  {
   "cell_type": "code",
   "execution_count": 78,
   "id": "47e591cf",
   "metadata": {
    "scrolled": true
   },
   "outputs": [
    {
     "name": "stdout",
     "output_type": "stream",
     "text": [
      "*  *  *  *  *  *  *  *  *  *  *  *  *  *  *  *  *  *  *  *  *  *  *  *  *  *  *  *  *  *  *  *  *  *  *  *  *  *  *  *  *  *  *  *  *  *  *  *  *  *  n is 50 now\n",
      "*  *  *  *  *  *  *  *  *  *  *  *  *  *  *  *  *  *  *  *  *  *  *  *  *  *  *  *  *  *  *  *  *  *  *  *  *  *  *  *  *  *  *  *  *  *  *  *  *  "
     ]
    }
   ],
   "source": [
    "### continue\n",
    "n = 0\n",
    "while ( n<100):\n",
    "    if (n==50):\n",
    "        print ('n is 50 now')\n",
    "        n = n+1\n",
    "        continue\n",
    "    print('*', end =\"  \")\n",
    "    n = n+1\n",
    "    \n"
   ]
  },
  {
   "cell_type": "markdown",
   "id": "d1300fc0",
   "metadata": {},
   "source": [
    "### For "
   ]
  },
  {
   "cell_type": "code",
   "execution_count": 79,
   "id": "bb25376c",
   "metadata": {
    "scrolled": true
   },
   "outputs": [
    {
     "name": "stdout",
     "output_type": "stream",
     "text": [
      "hello\n"
     ]
    }
   ],
   "source": [
    "print('hello')"
   ]
  },
  {
   "cell_type": "code",
   "execution_count": 81,
   "id": "092b3a0a",
   "metadata": {},
   "outputs": [
    {
     "name": "stdout",
     "output_type": "stream",
     "text": [
      "0\n",
      "1\n",
      "2\n",
      "3\n",
      "4\n",
      "5\n",
      "6\n",
      "7\n",
      "8\n",
      "9\n"
     ]
    }
   ],
   "source": [
    "for i in range(10):\n",
    "    print(i)"
   ]
  },
  {
   "cell_type": "code",
   "execution_count": 82,
   "id": "d3973b4a",
   "metadata": {
    "scrolled": true
   },
   "outputs": [
    {
     "name": "stdout",
     "output_type": "stream",
     "text": [
      "*\n",
      "*\n",
      "*\n",
      "*\n",
      "*\n",
      "*\n",
      "*\n",
      "*\n",
      "*\n",
      "*\n"
     ]
    }
   ],
   "source": [
    "for i in range(10):\n",
    "    print('*')"
   ]
  },
  {
   "cell_type": "code",
   "execution_count": 86,
   "id": "60c931ea",
   "metadata": {
    "scrolled": true
   },
   "outputs": [
    {
     "name": "stdout",
     "output_type": "stream",
     "text": [
      "1\n",
      "2\n",
      "3\n",
      "4\n"
     ]
    }
   ],
   "source": [
    "for i in range(1,5):\n",
    "    print(i)"
   ]
  },
  {
   "cell_type": "code",
   "execution_count": 87,
   "id": "41fba54b",
   "metadata": {
    "scrolled": true
   },
   "outputs": [
    {
     "name": "stdout",
     "output_type": "stream",
     "text": [
      "1\n",
      "3\n",
      "5\n",
      "7\n",
      "9\n"
     ]
    }
   ],
   "source": [
    "for i in range(1,10, 2):\n",
    "    print(i)"
   ]
  },
  {
   "cell_type": "code",
   "execution_count": 92,
   "id": "257ae1e9",
   "metadata": {},
   "outputs": [
    {
     "name": "stdout",
     "output_type": "stream",
     "text": [
      "5\n",
      "4\n",
      "3\n",
      "2\n",
      "1\n",
      "0\n"
     ]
    }
   ],
   "source": [
    "for i in range(5, -1, -1):\n",
    "    print(i)"
   ]
  },
  {
   "cell_type": "markdown",
   "id": "4a9130b2",
   "metadata": {},
   "source": [
    "## Strings"
   ]
  },
  {
   "cell_type": "code",
   "execution_count": 1,
   "id": "ef62532c",
   "metadata": {},
   "outputs": [
    {
     "data": {
      "text/plain": [
       "'AbCdesfgh'"
      ]
     },
     "execution_count": 1,
     "metadata": {},
     "output_type": "execute_result"
    }
   ],
   "source": [
    "s = 'AbCdesfgh'\n",
    "s"
   ]
  },
  {
   "cell_type": "code",
   "execution_count": 2,
   "id": "b9ae9e8d",
   "metadata": {
    "scrolled": true
   },
   "outputs": [
    {
     "name": "stdout",
     "output_type": "stream",
     "text": [
      "AbCdesfgh\n"
     ]
    }
   ],
   "source": [
    "print(s\n",
    "     )"
   ]
  },
  {
   "cell_type": "code",
   "execution_count": 57,
   "id": "1df7760f",
   "metadata": {},
   "outputs": [
    {
     "data": {
      "text/plain": [
       "9"
      ]
     },
     "execution_count": 57,
     "metadata": {},
     "output_type": "execute_result"
    }
   ],
   "source": [
    "len(s)"
   ]
  },
  {
   "cell_type": "code",
   "execution_count": 58,
   "id": "dbd98415",
   "metadata": {},
   "outputs": [
    {
     "data": {
      "text/plain": [
       "'4'"
      ]
     },
     "execution_count": 58,
     "metadata": {},
     "output_type": "execute_result"
    }
   ],
   "source": [
    "str(4)"
   ]
  },
  {
   "cell_type": "code",
   "execution_count": 60,
   "id": "3d964a61",
   "metadata": {},
   "outputs": [
    {
     "name": "stdout",
     "output_type": "stream",
     "text": [
      "my age is  40\n"
     ]
    }
   ],
   "source": [
    "print('my age is ', 40)"
   ]
  },
  {
   "cell_type": "markdown",
   "id": "d0a586ee",
   "metadata": {},
   "source": [
    "### Indexing"
   ]
  },
  {
   "cell_type": "code",
   "execution_count": 3,
   "id": "69f0792e",
   "metadata": {},
   "outputs": [
    {
     "data": {
      "text/plain": [
       "'A'"
      ]
     },
     "execution_count": 3,
     "metadata": {},
     "output_type": "execute_result"
    }
   ],
   "source": [
    "s[0]"
   ]
  },
  {
   "cell_type": "code",
   "execution_count": 4,
   "id": "aa21f3e6",
   "metadata": {
    "scrolled": true
   },
   "outputs": [
    {
     "data": {
      "text/plain": [
       "'d'"
      ]
     },
     "execution_count": 4,
     "metadata": {},
     "output_type": "execute_result"
    }
   ],
   "source": [
    "s[3]"
   ]
  },
  {
   "cell_type": "code",
   "execution_count": 31,
   "id": "c2a460b9",
   "metadata": {},
   "outputs": [
    {
     "data": {
      "text/plain": [
       "'h'"
      ]
     },
     "execution_count": 31,
     "metadata": {},
     "output_type": "execute_result"
    }
   ],
   "source": [
    "# revierse indexing\n",
    "s[-1]"
   ]
  },
  {
   "cell_type": "code",
   "execution_count": 44,
   "id": "05a13f6a",
   "metadata": {
    "scrolled": true
   },
   "outputs": [
    {
     "ename": "TypeError",
     "evalue": "'str' object does not support item assignment",
     "output_type": "error",
     "traceback": [
      "\u001b[1;31m---------------------------------------------------------------------------\u001b[0m",
      "\u001b[1;31mTypeError\u001b[0m                                 Traceback (most recent call last)",
      "\u001b[1;32m<ipython-input-44-06a0b7707e23>\u001b[0m in \u001b[0;36m<module>\u001b[1;34m\u001b[0m\n\u001b[1;32m----> 1\u001b[1;33m \u001b[0ms\u001b[0m\u001b[1;33m[\u001b[0m\u001b[1;36m2\u001b[0m\u001b[1;33m]\u001b[0m \u001b[1;33m=\u001b[0m \u001b[1;34m'n'\u001b[0m\u001b[1;33m\u001b[0m\u001b[1;33m\u001b[0m\u001b[0m\n\u001b[0m",
      "\u001b[1;31mTypeError\u001b[0m: 'str' object does not support item assignment"
     ]
    }
   ],
   "source": [
    "s[2] = 'n'"
   ]
  },
  {
   "cell_type": "markdown",
   "id": "e67839ef",
   "metadata": {},
   "source": [
    "### Slicing"
   ]
  },
  {
   "cell_type": "code",
   "execution_count": 5,
   "id": "f67793a8",
   "metadata": {},
   "outputs": [
    {
     "data": {
      "text/plain": [
       "'bC'"
      ]
     },
     "execution_count": 5,
     "metadata": {},
     "output_type": "execute_result"
    }
   ],
   "source": [
    "s[1:3]"
   ]
  },
  {
   "cell_type": "code",
   "execution_count": 6,
   "id": "40701fbd",
   "metadata": {},
   "outputs": [
    {
     "data": {
      "text/plain": [
       "'AbC'"
      ]
     },
     "execution_count": 6,
     "metadata": {},
     "output_type": "execute_result"
    }
   ],
   "source": [
    "s[:3]"
   ]
  },
  {
   "cell_type": "code",
   "execution_count": 7,
   "id": "eeff4496",
   "metadata": {},
   "outputs": [
    {
     "data": {
      "text/plain": [
       "'Cdesfgh'"
      ]
     },
     "execution_count": 7,
     "metadata": {},
     "output_type": "execute_result"
    }
   ],
   "source": [
    "s[2:]"
   ]
  },
  {
   "cell_type": "code",
   "execution_count": 8,
   "id": "98b5b831",
   "metadata": {},
   "outputs": [
    {
     "data": {
      "text/plain": [
       "'bd'"
      ]
     },
     "execution_count": 8,
     "metadata": {},
     "output_type": "execute_result"
    }
   ],
   "source": [
    "s[1:5:2]"
   ]
  },
  {
   "cell_type": "code",
   "execution_count": 45,
   "id": "4719898b",
   "metadata": {},
   "outputs": [],
   "source": [
    "a = [1,2,3,4]"
   ]
  },
  {
   "cell_type": "code",
   "execution_count": 47,
   "id": "4e7e43d2",
   "metadata": {},
   "outputs": [
    {
     "data": {
      "text/plain": [
       "[4, 2, 3, 4]"
      ]
     },
     "execution_count": 47,
     "metadata": {},
     "output_type": "execute_result"
    }
   ],
   "source": [
    "a[0]=4\n",
    "a"
   ]
  },
  {
   "cell_type": "code",
   "execution_count": null,
   "id": "49ca0ad4",
   "metadata": {},
   "outputs": [],
   "source": []
  },
  {
   "cell_type": "code",
   "execution_count": null,
   "id": "2f612859",
   "metadata": {},
   "outputs": [],
   "source": []
  },
  {
   "cell_type": "code",
   "execution_count": 9,
   "id": "96f4c9b4",
   "metadata": {},
   "outputs": [
    {
     "data": {
      "text/plain": [
       "'hgfsedCbA'"
      ]
     },
     "execution_count": 9,
     "metadata": {},
     "output_type": "execute_result"
    }
   ],
   "source": [
    "s[::-1]"
   ]
  },
  {
   "cell_type": "code",
   "execution_count": 10,
   "id": "ed035dc3",
   "metadata": {},
   "outputs": [
    {
     "data": {
      "text/plain": [
       "'h'"
      ]
     },
     "execution_count": 10,
     "metadata": {},
     "output_type": "execute_result"
    }
   ],
   "source": [
    "s[-1]"
   ]
  },
  {
   "cell_type": "code",
   "execution_count": 11,
   "id": "4ab46806",
   "metadata": {},
   "outputs": [
    {
     "data": {
      "text/plain": [
       "'d'"
      ]
     },
     "execution_count": 11,
     "metadata": {},
     "output_type": "execute_result"
    }
   ],
   "source": [
    "s[-6]"
   ]
  },
  {
   "cell_type": "code",
   "execution_count": 12,
   "id": "df4c5a6e",
   "metadata": {
    "scrolled": true
   },
   "outputs": [
    {
     "data": {
      "text/plain": [
       "'abcdef'"
      ]
     },
     "execution_count": 12,
     "metadata": {},
     "output_type": "execute_result"
    }
   ],
   "source": [
    "s1 = 'abc'\n",
    "s2 = 'def'\n",
    "s1+s2"
   ]
  },
  {
   "cell_type": "code",
   "execution_count": 34,
   "id": "458b25a7",
   "metadata": {},
   "outputs": [
    {
     "data": {
      "text/plain": [
       "'abcabcabc'"
      ]
     },
     "execution_count": 34,
     "metadata": {},
     "output_type": "execute_result"
    }
   ],
   "source": [
    " s1* 3"
   ]
  },
  {
   "cell_type": "code",
   "execution_count": 35,
   "id": "169b55f5",
   "metadata": {},
   "outputs": [],
   "source": [
    "a = s1*3"
   ]
  },
  {
   "cell_type": "code",
   "execution_count": 36,
   "id": "6f46f897",
   "metadata": {
    "scrolled": true
   },
   "outputs": [
    {
     "data": {
      "text/plain": [
       "'abcabcabc'"
      ]
     },
     "execution_count": 36,
     "metadata": {},
     "output_type": "execute_result"
    }
   ],
   "source": [
    "a"
   ]
  },
  {
   "cell_type": "code",
   "execution_count": 41,
   "id": "8b8ed9f6",
   "metadata": {},
   "outputs": [
    {
     "ename": "TypeError",
     "evalue": "unsupported operand type(s) for /: 'str' and 'str'",
     "output_type": "error",
     "traceback": [
      "\u001b[1;31m---------------------------------------------------------------------------\u001b[0m",
      "\u001b[1;31mTypeError\u001b[0m                                 Traceback (most recent call last)",
      "\u001b[1;32m<ipython-input-41-8a8db3c1040e>\u001b[0m in \u001b[0;36m<module>\u001b[1;34m\u001b[0m\n\u001b[1;32m----> 1\u001b[1;33m \u001b[0ma\u001b[0m\u001b[1;33m/\u001b[0m\u001b[0ms1\u001b[0m\u001b[1;33m\u001b[0m\u001b[1;33m\u001b[0m\u001b[0m\n\u001b[0m",
      "\u001b[1;31mTypeError\u001b[0m: unsupported operand type(s) for /: 'str' and 'str'"
     ]
    }
   ],
   "source": [
    "a/s1"
   ]
  },
  {
   "cell_type": "code",
   "execution_count": 42,
   "id": "87eb6125",
   "metadata": {},
   "outputs": [
    {
     "ename": "TypeError",
     "evalue": "unsupported operand type(s) for -: 'str' and 'str'",
     "output_type": "error",
     "traceback": [
      "\u001b[1;31m---------------------------------------------------------------------------\u001b[0m",
      "\u001b[1;31mTypeError\u001b[0m                                 Traceback (most recent call last)",
      "\u001b[1;32m<ipython-input-42-fafb6d5d3b92>\u001b[0m in \u001b[0;36m<module>\u001b[1;34m\u001b[0m\n\u001b[1;32m----> 1\u001b[1;33m \u001b[0ma\u001b[0m\u001b[1;33m-\u001b[0m\u001b[0ms1\u001b[0m\u001b[1;33m\u001b[0m\u001b[1;33m\u001b[0m\u001b[0m\n\u001b[0m",
      "\u001b[1;31mTypeError\u001b[0m: unsupported operand type(s) for -: 'str' and 'str'"
     ]
    }
   ],
   "source": [
    "a-s1"
   ]
  },
  {
   "cell_type": "code",
   "execution_count": 62,
   "id": "45b90975",
   "metadata": {
    "scrolled": true
   },
   "outputs": [
    {
     "ename": "TypeError",
     "evalue": "unsupported operand type(s) for +: 'int' and 'str'",
     "output_type": "error",
     "traceback": [
      "\u001b[1;31m---------------------------------------------------------------------------\u001b[0m",
      "\u001b[1;31mTypeError\u001b[0m                                 Traceback (most recent call last)",
      "\u001b[1;32m<ipython-input-62-6a9f68e7a439>\u001b[0m in \u001b[0;36m<module>\u001b[1;34m\u001b[0m\n\u001b[0;32m      1\u001b[0m \u001b[0mg\u001b[0m \u001b[1;33m=\u001b[0m \u001b[1;36m3\u001b[0m\u001b[1;33m\u001b[0m\u001b[1;33m\u001b[0m\u001b[0m\n\u001b[0;32m      2\u001b[0m \u001b[0ms3\u001b[0m \u001b[1;33m=\u001b[0m \u001b[1;34m'5'\u001b[0m\u001b[1;33m\u001b[0m\u001b[1;33m\u001b[0m\u001b[0m\n\u001b[1;32m----> 3\u001b[1;33m \u001b[0mg\u001b[0m\u001b[1;33m+\u001b[0m\u001b[0ms3\u001b[0m\u001b[1;33m\u001b[0m\u001b[1;33m\u001b[0m\u001b[0m\n\u001b[0m",
      "\u001b[1;31mTypeError\u001b[0m: unsupported operand type(s) for +: 'int' and 'str'"
     ]
    }
   ],
   "source": [
    "g = 3\n",
    "s3 = '5'\n",
    "g+s3"
   ]
  },
  {
   "cell_type": "code",
   "execution_count": 64,
   "id": "1d8c9974",
   "metadata": {},
   "outputs": [
    {
     "data": {
      "text/plain": [
       "'35'"
      ]
     },
     "execution_count": 64,
     "metadata": {},
     "output_type": "execute_result"
    }
   ],
   "source": [
    "str(g) + s3"
   ]
  },
  {
   "cell_type": "markdown",
   "id": "f1ece41a",
   "metadata": {},
   "source": [
    "### in and not in operators"
   ]
  },
  {
   "cell_type": "code",
   "execution_count": 11,
   "id": "a37d9233",
   "metadata": {},
   "outputs": [
    {
     "data": {
      "text/plain": [
       "True"
      ]
     },
     "execution_count": 11,
     "metadata": {},
     "output_type": "execute_result"
    }
   ],
   "source": [
    "s5 = 'AbcdEfGhi'\n",
    "'Ab' in s5"
   ]
  },
  {
   "cell_type": "code",
   "execution_count": 12,
   "id": "fc401acf",
   "metadata": {},
   "outputs": [
    {
     "data": {
      "text/plain": [
       "True"
      ]
     },
     "execution_count": 12,
     "metadata": {},
     "output_type": "execute_result"
    }
   ],
   "source": [
    "'World' in 'Hello World!'"
   ]
  },
  {
   "cell_type": "code",
   "execution_count": 13,
   "id": "0228b3e9",
   "metadata": {},
   "outputs": [
    {
     "data": {
      "text/plain": [
       "True"
      ]
     },
     "execution_count": 13,
     "metadata": {},
     "output_type": "execute_result"
    }
   ],
   "source": [
    "'WORLD' not in 'Hello World!'"
   ]
  },
  {
   "cell_type": "code",
   "execution_count": 15,
   "id": "de8d3940",
   "metadata": {},
   "outputs": [
    {
     "name": "stdout",
     "output_type": "stream",
     "text": [
      "Mohammad Amini\n"
     ]
    }
   ],
   "source": [
    "name = 'Mohammad Amini'\n",
    "if ('M' in name):\n",
    "    print (name)"
   ]
  },
  {
   "cell_type": "markdown",
   "id": "98e3d98d",
   "metadata": {},
   "source": [
    "## String Methods"
   ]
  },
  {
   "cell_type": "markdown",
   "id": "91238052",
   "metadata": {},
   "source": [
    "### The upper(), lower(), isupper(), and islower() String Methods"
   ]
  },
  {
   "cell_type": "code",
   "execution_count": 17,
   "id": "2a0a1726",
   "metadata": {},
   "outputs": [
    {
     "data": {
      "text/plain": [
       "'I AM A DATA SCIENTIST!'"
      ]
     },
     "execution_count": 17,
     "metadata": {},
     "output_type": "execute_result"
    }
   ],
   "source": [
    "s6 = 'I am a data scientist!'\n",
    "s6.upper()"
   ]
  },
  {
   "cell_type": "code",
   "execution_count": 18,
   "id": "7ece4315",
   "metadata": {},
   "outputs": [
    {
     "data": {
      "text/plain": [
       "False"
      ]
     },
     "execution_count": 18,
     "metadata": {},
     "output_type": "execute_result"
    }
   ],
   "source": [
    "s6.isupper()"
   ]
  },
  {
   "cell_type": "code",
   "execution_count": 19,
   "id": "fcc1c2f2",
   "metadata": {},
   "outputs": [
    {
     "data": {
      "text/plain": [
       "False"
      ]
     },
     "execution_count": 19,
     "metadata": {},
     "output_type": "execute_result"
    }
   ],
   "source": [
    "s6.islower()"
   ]
  },
  {
   "cell_type": "code",
   "execution_count": 20,
   "id": "df832b01",
   "metadata": {},
   "outputs": [
    {
     "data": {
      "text/plain": [
       "False"
      ]
     },
     "execution_count": 20,
     "metadata": {},
     "output_type": "execute_result"
    }
   ],
   "source": [
    "s7 = 'hello'\n",
    "s7.isupper()"
   ]
  },
  {
   "cell_type": "code",
   "execution_count": 21,
   "id": "579814c6",
   "metadata": {
    "scrolled": true
   },
   "outputs": [
    {
     "data": {
      "text/plain": [
       "True"
      ]
     },
     "execution_count": 21,
     "metadata": {},
     "output_type": "execute_result"
    }
   ],
   "source": [
    "s7.islower()"
   ]
  },
  {
   "cell_type": "code",
   "execution_count": 22,
   "id": "bf1e007e",
   "metadata": {},
   "outputs": [
    {
     "data": {
      "text/plain": [
       "'i like it!'"
      ]
     },
     "execution_count": 22,
     "metadata": {},
     "output_type": "execute_result"
    }
   ],
   "source": [
    "s8 = 'I LIKE IT!'\n",
    "s8.lower()"
   ]
  },
  {
   "cell_type": "code",
   "execution_count": 23,
   "id": "b32fc332",
   "metadata": {},
   "outputs": [
    {
     "data": {
      "text/plain": [
       "'1234'"
      ]
     },
     "execution_count": 23,
     "metadata": {},
     "output_type": "execute_result"
    }
   ],
   "source": [
    "'1234'.upper()"
   ]
  },
  {
   "cell_type": "code",
   "execution_count": 24,
   "id": "5487afc9",
   "metadata": {},
   "outputs": [
    {
     "data": {
      "text/plain": [
       "'1234'"
      ]
     },
     "execution_count": 24,
     "metadata": {},
     "output_type": "execute_result"
    }
   ],
   "source": [
    "'1234'.lower()"
   ]
  },
  {
   "cell_type": "markdown",
   "id": "eff73932",
   "metadata": {},
   "source": [
    "### The isX String Methods"
   ]
  },
  {
   "cell_type": "code",
   "execution_count": 50,
   "id": "cb853ff3",
   "metadata": {},
   "outputs": [
    {
     "data": {
      "text/plain": [
       "True"
      ]
     },
     "execution_count": 50,
     "metadata": {},
     "output_type": "execute_result"
    }
   ],
   "source": [
    "s = 'I Am A Student'\n",
    "s.istitle()"
   ]
  },
  {
   "cell_type": "code",
   "execution_count": 58,
   "id": "ca2a7d33",
   "metadata": {},
   "outputs": [
    {
     "data": {
      "text/plain": [
       "False"
      ]
     },
     "execution_count": 58,
     "metadata": {},
     "output_type": "execute_result"
    }
   ],
   "source": [
    "'Mohammad26'.isalnum()"
   ]
  },
  {
   "cell_type": "code",
   "execution_count": 55,
   "id": "a7a8e4e3",
   "metadata": {},
   "outputs": [
    {
     "data": {
      "text/plain": [
       "False"
      ]
     },
     "execution_count": 55,
     "metadata": {},
     "output_type": "execute_result"
    }
   ],
   "source": [
    "'Mohammad26'.isalpha()"
   ]
  },
  {
   "cell_type": "code",
   "execution_count": 56,
   "id": "4bb19d87",
   "metadata": {},
   "outputs": [
    {
     "data": {
      "text/plain": [
       "False"
      ]
     },
     "execution_count": 56,
     "metadata": {},
     "output_type": "execute_result"
    }
   ],
   "source": [
    "'Mohammad26'.isdigit()"
   ]
  },
  {
   "cell_type": "code",
   "execution_count": 57,
   "id": "82b89d68",
   "metadata": {},
   "outputs": [
    {
     "data": {
      "text/plain": [
       "True"
      ]
     },
     "execution_count": 57,
     "metadata": {},
     "output_type": "execute_result"
    }
   ],
   "source": [
    "'123456'.isdigit()"
   ]
  },
  {
   "cell_type": "markdown",
   "id": "381fb63c",
   "metadata": {},
   "source": [
    "### The startswith() and endswith() String Methods"
   ]
  },
  {
   "cell_type": "code",
   "execution_count": 59,
   "id": "a66050d1",
   "metadata": {},
   "outputs": [
    {
     "data": {
      "text/plain": [
       "True"
      ]
     },
     "execution_count": 59,
     "metadata": {},
     "output_type": "execute_result"
    }
   ],
   "source": [
    "s9 = 'Hello world!'\n",
    "s9.startswith('Hell')"
   ]
  },
  {
   "cell_type": "code",
   "execution_count": 60,
   "id": "56cbf6ac",
   "metadata": {},
   "outputs": [
    {
     "data": {
      "text/plain": [
       "True"
      ]
     },
     "execution_count": 60,
     "metadata": {},
     "output_type": "execute_result"
    }
   ],
   "source": [
    "s9.endswith('ld!')"
   ]
  },
  {
   "cell_type": "markdown",
   "id": "6a966bdc",
   "metadata": {},
   "source": [
    "### The join() and split() String Methods"
   ]
  },
  {
   "cell_type": "code",
   "execution_count": 61,
   "id": "582baca4",
   "metadata": {},
   "outputs": [
    {
     "data": {
      "text/plain": [
       "['My', 'name', 'is', 'Farhad.', 'I', 'am', '25', 'years', 'old.']"
      ]
     },
     "execution_count": 61,
     "metadata": {},
     "output_type": "execute_result"
    }
   ],
   "source": [
    "s10 = 'My name is Farhad. I am 25 years old.'\n",
    "s10.split()"
   ]
  },
  {
   "cell_type": "code",
   "execution_count": 62,
   "id": "752bf8f9",
   "metadata": {},
   "outputs": [
    {
     "data": {
      "text/plain": [
       "['My name is Farhad', ' I am 25 years old', '']"
      ]
     },
     "execution_count": 62,
     "metadata": {},
     "output_type": "execute_result"
    }
   ],
   "source": [
    "s10.split('.')"
   ]
  },
  {
   "cell_type": "code",
   "execution_count": 63,
   "id": "36960f61",
   "metadata": {},
   "outputs": [
    {
     "data": {
      "text/plain": [
       "['My na', 'e is Farhad. I a', ' 25 years old.']"
      ]
     },
     "execution_count": 63,
     "metadata": {},
     "output_type": "execute_result"
    }
   ],
   "source": [
    "s10.split('m')"
   ]
  },
  {
   "cell_type": "code",
   "execution_count": 64,
   "id": "846557a0",
   "metadata": {},
   "outputs": [
    {
     "data": {
      "text/plain": [
       "'My name is Farhad. I am 25 years old.'"
      ]
     },
     "execution_count": 64,
     "metadata": {},
     "output_type": "execute_result"
    }
   ],
   "source": [
    "'.'.join(['My name is Farhad', ' I am 25 years old', ''])"
   ]
  },
  {
   "cell_type": "code",
   "execution_count": 65,
   "id": "21b2b35c",
   "metadata": {},
   "outputs": [
    {
     "data": {
      "text/plain": [
       "'My name is Farhad. I am 25 years old.'"
      ]
     },
     "execution_count": 65,
     "metadata": {},
     "output_type": "execute_result"
    }
   ],
   "source": [
    "' '.join(['My', 'name', 'is', 'Farhad.', 'I', 'am', '25', 'years', 'old.'])"
   ]
  },
  {
   "cell_type": "code",
   "execution_count": 66,
   "id": "acc1f3f0",
   "metadata": {},
   "outputs": [
    {
     "data": {
      "text/plain": [
       "'Hello***My***Dear'"
      ]
     },
     "execution_count": 66,
     "metadata": {},
     "output_type": "execute_result"
    }
   ],
   "source": [
    "'***'.join(['Hello', 'My', 'Dear'])\n"
   ]
  },
  {
   "cell_type": "markdown",
   "id": "4f74eb46",
   "metadata": {},
   "source": [
    "### Removing Whitespace with strip(), rstrip(), and lstrip()"
   ]
  },
  {
   "cell_type": "code",
   "execution_count": 69,
   "id": "93631212",
   "metadata": {},
   "outputs": [
    {
     "data": {
      "text/plain": [
       "'Hello'"
      ]
     },
     "execution_count": 69,
     "metadata": {},
     "output_type": "execute_result"
    }
   ],
   "source": [
    "s11  = '   Hello   '\n",
    "s11.strip()"
   ]
  },
  {
   "cell_type": "code",
   "execution_count": 72,
   "id": "f47e6844",
   "metadata": {},
   "outputs": [
    {
     "data": {
      "text/plain": [
       "'Hello     '"
      ]
     },
     "execution_count": 72,
     "metadata": {},
     "output_type": "execute_result"
    }
   ],
   "source": [
    "s11  = '    Hello     '\n",
    "s11.lstrip()"
   ]
  },
  {
   "cell_type": "code",
   "execution_count": 73,
   "id": "96e040cb",
   "metadata": {},
   "outputs": [
    {
     "data": {
      "text/plain": [
       "'    Hello'"
      ]
     },
     "execution_count": 73,
     "metadata": {},
     "output_type": "execute_result"
    }
   ],
   "source": [
    "s11  = '    Hello     '\n",
    "s11.rstrip()"
   ]
  },
  {
   "cell_type": "code",
   "execution_count": null,
   "id": "63f39cb2",
   "metadata": {},
   "outputs": [],
   "source": []
  },
  {
   "cell_type": "markdown",
   "id": "2f965f55",
   "metadata": {},
   "source": [
    "## Print method"
   ]
  },
  {
   "cell_type": "code",
   "execution_count": 13,
   "id": "6fe59067",
   "metadata": {},
   "outputs": [
    {
     "data": {
      "text/plain": [
       "'MohammadAmini'"
      ]
     },
     "execution_count": 13,
     "metadata": {},
     "output_type": "execute_result"
    }
   ],
   "source": [
    "f_name = 'Mohammad'\n",
    "L_name = 'Amini'\n",
    "f_name + L_name"
   ]
  },
  {
   "cell_type": "code",
   "execution_count": 15,
   "id": "775f9439",
   "metadata": {},
   "outputs": [
    {
     "data": {
      "text/plain": [
       "'Mohammad Amini'"
      ]
     },
     "execution_count": 15,
     "metadata": {},
     "output_type": "execute_result"
    }
   ],
   "source": [
    "f_name + ' ' +  L_name"
   ]
  },
  {
   "cell_type": "code",
   "execution_count": 17,
   "id": "91130cb7",
   "metadata": {},
   "outputs": [
    {
     "name": "stdout",
     "output_type": "stream",
     "text": [
      "Mohammad   Amini\n"
     ]
    }
   ],
   "source": [
    "print (f_name, ' ', L_name)"
   ]
  },
  {
   "cell_type": "code",
   "execution_count": 18,
   "id": "2cd8262b",
   "metadata": {
    "scrolled": true
   },
   "outputs": [
    {
     "name": "stdout",
     "output_type": "stream",
     "text": [
      "My name is Mohammad   Amini\n"
     ]
    }
   ],
   "source": [
    "print ('My name is', f_name, ' ', L_name)"
   ]
  },
  {
   "cell_type": "markdown",
   "id": "876481b5",
   "metadata": {},
   "source": [
    "### String Formatting"
   ]
  },
  {
   "cell_type": "code",
   "execution_count": 20,
   "id": "5f5dc015",
   "metadata": {},
   "outputs": [
    {
     "name": "stdout",
     "output_type": "stream",
     "text": [
      "My name is Mohammad \n"
     ]
    }
   ],
   "source": [
    "print('My name is {} {} '.format(f_name,L_name))"
   ]
  },
  {
   "cell_type": "code",
   "execution_count": 24,
   "id": "e53e5b5c",
   "metadata": {},
   "outputs": [
    {
     "name": "stdout",
     "output_type": "stream",
     "text": [
      "input your first name: Mohammad\n"
     ]
    }
   ],
   "source": [
    "f_name = input('input your first name: ')"
   ]
  },
  {
   "cell_type": "code",
   "execution_count": 23,
   "id": "88769109",
   "metadata": {},
   "outputs": [
    {
     "data": {
      "text/plain": [
       "'mohammad'"
      ]
     },
     "execution_count": 23,
     "metadata": {},
     "output_type": "execute_result"
    }
   ],
   "source": [
    "l_name"
   ]
  },
  {
   "cell_type": "code",
   "execution_count": 25,
   "id": "84ee78a8",
   "metadata": {},
   "outputs": [
    {
     "name": "stdout",
     "output_type": "stream",
     "text": [
      "input your last name: Amini\n"
     ]
    }
   ],
   "source": [
    "l_name = input('input your last name: ')"
   ]
  },
  {
   "cell_type": "code",
   "execution_count": 27,
   "id": "a6c6f0c1",
   "metadata": {},
   "outputs": [
    {
     "name": "stdout",
     "output_type": "stream",
     "text": [
      "My name is Mohammad Amini \n"
     ]
    }
   ],
   "source": [
    "print('My name is {} {} '.format(f_name,l_name))"
   ]
  },
  {
   "cell_type": "code",
   "execution_count": 28,
   "id": "ac82a776",
   "metadata": {
    "scrolled": true
   },
   "outputs": [
    {
     "name": "stdout",
     "output_type": "stream",
     "text": [
      "input your first name: Mohammad\n",
      "input your last name: Amini\n",
      "My name is Mohammad Amini \n"
     ]
    }
   ],
   "source": [
    "f_name = input('input your first name: ')\n",
    "l_name = input('input your last name: ')\n",
    "print('My name is {} {} '.format(f_name,l_name))"
   ]
  },
  {
   "cell_type": "code",
   "execution_count": 4,
   "id": "cdc26fa2",
   "metadata": {},
   "outputs": [
    {
     "name": "stdout",
     "output_type": "stream",
     "text": [
      "hello Amini\n"
     ]
    }
   ],
   "source": [
    "print('hello %s' %'Amini')"
   ]
  },
  {
   "cell_type": "code",
   "execution_count": 9,
   "id": "db36a16e",
   "metadata": {
    "scrolled": false
   },
   "outputs": [
    {
     "name": "stdout",
     "output_type": "stream",
     "text": [
      "Good Morning Farhad\n"
     ]
    }
   ],
   "source": [
    "name = 'Farhad'\n",
    "print('Good Morning %s' % name )"
   ]
  },
  {
   "cell_type": "code",
   "execution_count": 30,
   "id": "5a39a158",
   "metadata": {},
   "outputs": [
    {
     "name": "stdout",
     "output_type": "stream",
     "text": [
      "I have 5 apples\n"
     ]
    }
   ],
   "source": [
    "num = 5\n",
    "print ('I have %d apples' %num)"
   ]
  },
  {
   "cell_type": "code",
   "execution_count": 31,
   "id": "0cf96beb",
   "metadata": {},
   "outputs": [
    {
     "name": "stdout",
     "output_type": "stream",
     "text": [
      "Good Morning Farhad The time is 123 \n"
     ]
    }
   ],
   "source": [
    "name = 'Farhad'\n",
    "time = 123\n",
    "print('Good Morning %s The time is %d ' %(name, time ))"
   ]
  },
  {
   "cell_type": "code",
   "execution_count": 1,
   "id": "f5ea66bd",
   "metadata": {},
   "outputs": [
    {
     "name": "stdout",
     "output_type": "stream",
     "text": [
      "Hello!\n",
      " How are you today?\n",
      " I'm doing well\n"
     ]
    }
   ],
   "source": [
    "# \\n, \\t, \\', \\\" , \\\\\n",
    "print('Hello!\\n How are you today?\\n I\\'m doing well')"
   ]
  },
  {
   "cell_type": "code",
   "execution_count": 5,
   "id": "34356dca",
   "metadata": {
    "scrolled": true
   },
   "outputs": [
    {
     "name": "stdout",
     "output_type": "stream",
     "text": [
      "He said: \"Hello there\" \n"
     ]
    }
   ],
   "source": [
    "print(\"He said: \\\"Hello there\\\" \")"
   ]
  },
  {
   "cell_type": "code",
   "execution_count": 9,
   "id": "79afe463",
   "metadata": {},
   "outputs": [
    {
     "name": "stdout",
     "output_type": "stream",
     "text": [
      "   Hello There!\n",
      "\n",
      "I am a robot, How are you?\n",
      "\n",
      "Today is warm!\n",
      "\n"
     ]
    }
   ],
   "source": [
    "# Multiline strings with trible quotes\n",
    "print ('''   Hello There!\n",
    "\n",
    "I am a robot, How are you?\n",
    "\n",
    "Today is warm!\n",
    "''')"
   ]
  },
  {
   "cell_type": "markdown",
   "id": "68ca539f",
   "metadata": {},
   "source": [
    "# Lists"
   ]
  },
  {
   "cell_type": "markdown",
   "id": "b955d762",
   "metadata": {},
   "source": [
    "## List methods"
   ]
  },
  {
   "cell_type": "code",
   "execution_count": 77,
   "id": "0d74645b",
   "metadata": {},
   "outputs": [
    {
     "data": {
      "text/plain": [
       "['a', 'b', 'c', 'd']"
      ]
     },
     "execution_count": 77,
     "metadata": {},
     "output_type": "execute_result"
    }
   ],
   "source": [
    "l = ['a', 'b', 'c', 'd']\n",
    "l"
   ]
  },
  {
   "cell_type": "code",
   "execution_count": 79,
   "id": "7953ec6e",
   "metadata": {},
   "outputs": [
    {
     "data": {
      "text/plain": [
       "[1, 2, 3, 4, 5, 6]"
      ]
     },
     "execution_count": 79,
     "metadata": {},
     "output_type": "execute_result"
    }
   ],
   "source": [
    "l = [1,2,3,4,5,6]\n",
    "l"
   ]
  },
  {
   "cell_type": "code",
   "execution_count": 81,
   "id": "9f58aa38",
   "metadata": {},
   "outputs": [
    {
     "data": {
      "text/plain": [
       "[1, 2, 'a', 'abc', 4.56]"
      ]
     },
     "execution_count": 81,
     "metadata": {},
     "output_type": "execute_result"
    }
   ],
   "source": [
    "l2 = [1,2, 'a', 'abc', 4.56]\n",
    "l2"
   ]
  },
  {
   "cell_type": "code",
   "execution_count": 82,
   "id": "af742c3a",
   "metadata": {},
   "outputs": [
    {
     "data": {
      "text/plain": [
       "1"
      ]
     },
     "execution_count": 82,
     "metadata": {},
     "output_type": "execute_result"
    }
   ],
   "source": [
    "l2[0]"
   ]
  },
  {
   "cell_type": "code",
   "execution_count": 83,
   "id": "cd866680",
   "metadata": {},
   "outputs": [
    {
     "data": {
      "text/plain": [
       "'a'"
      ]
     },
     "execution_count": 83,
     "metadata": {},
     "output_type": "execute_result"
    }
   ],
   "source": [
    "l2[2]"
   ]
  },
  {
   "cell_type": "code",
   "execution_count": 84,
   "id": "820fcff3",
   "metadata": {},
   "outputs": [
    {
     "data": {
      "text/plain": [
       "4.56"
      ]
     },
     "execution_count": 84,
     "metadata": {},
     "output_type": "execute_result"
    }
   ],
   "source": [
    "l2[4]"
   ]
  },
  {
   "cell_type": "code",
   "execution_count": 85,
   "id": "2e42433b",
   "metadata": {},
   "outputs": [
    {
     "data": {
      "text/plain": [
       "4.56"
      ]
     },
     "execution_count": 85,
     "metadata": {},
     "output_type": "execute_result"
    }
   ],
   "source": [
    "l2[-1]"
   ]
  },
  {
   "cell_type": "code",
   "execution_count": 86,
   "id": "39b77582",
   "metadata": {},
   "outputs": [
    {
     "data": {
      "text/plain": [
       "'abc'"
      ]
     },
     "execution_count": 86,
     "metadata": {},
     "output_type": "execute_result"
    }
   ],
   "source": [
    "l2[-2]"
   ]
  },
  {
   "cell_type": "code",
   "execution_count": 87,
   "id": "2bb6a0ba",
   "metadata": {},
   "outputs": [],
   "source": [
    "animals= ['cat', 'bat', 'rat', 'elephant']"
   ]
  },
  {
   "cell_type": "code",
   "execution_count": 88,
   "id": "859af370",
   "metadata": {},
   "outputs": [
    {
     "name": "stdout",
     "output_type": "stream",
     "text": [
      "the elephant is afraid of the bat\n"
     ]
    }
   ],
   "source": [
    "print('the {} is afraid of the {}'.format(animals[-1], animals[-3]))"
   ]
  },
  {
   "cell_type": "markdown",
   "id": "31d4c8b9",
   "metadata": {},
   "source": [
    "## Slicing"
   ]
  },
  {
   "cell_type": "code",
   "execution_count": 90,
   "id": "72c5d374",
   "metadata": {},
   "outputs": [
    {
     "data": {
      "text/plain": [
       "['bat', 'rat']"
      ]
     },
     "execution_count": 90,
     "metadata": {},
     "output_type": "execute_result"
    }
   ],
   "source": [
    "animals[1:3]"
   ]
  },
  {
   "cell_type": "code",
   "execution_count": 91,
   "id": "8f3d7f16",
   "metadata": {},
   "outputs": [
    {
     "data": {
      "text/plain": [
       "['bat', 'rat', 'elephant']"
      ]
     },
     "execution_count": 91,
     "metadata": {},
     "output_type": "execute_result"
    }
   ],
   "source": [
    "animals[1:]"
   ]
  },
  {
   "cell_type": "code",
   "execution_count": 93,
   "id": "73930607",
   "metadata": {},
   "outputs": [
    {
     "data": {
      "text/plain": [
       "['cat', 'bat']"
      ]
     },
     "execution_count": 93,
     "metadata": {},
     "output_type": "execute_result"
    }
   ],
   "source": [
    "animals[:2]"
   ]
  },
  {
   "cell_type": "code",
   "execution_count": 94,
   "id": "e39ed184",
   "metadata": {},
   "outputs": [
    {
     "data": {
      "text/plain": [
       "['elephant', 'rat', 'bat', 'cat']"
      ]
     },
     "execution_count": 94,
     "metadata": {},
     "output_type": "execute_result"
    }
   ],
   "source": [
    "animals[::-1]"
   ]
  },
  {
   "cell_type": "code",
   "execution_count": 95,
   "id": "23b275d1",
   "metadata": {},
   "outputs": [],
   "source": [
    "zoo = animals"
   ]
  },
  {
   "cell_type": "code",
   "execution_count": 96,
   "id": "3f7751ae",
   "metadata": {},
   "outputs": [],
   "source": [
    "zoo.remove('bat')"
   ]
  },
  {
   "cell_type": "code",
   "execution_count": 97,
   "id": "f2c4ab6e",
   "metadata": {},
   "outputs": [
    {
     "data": {
      "text/plain": [
       "['cat', 'rat', 'elephant']"
      ]
     },
     "execution_count": 97,
     "metadata": {},
     "output_type": "execute_result"
    }
   ],
   "source": [
    "animals"
   ]
  },
  {
   "cell_type": "code",
   "execution_count": 98,
   "id": "5276fe27",
   "metadata": {},
   "outputs": [
    {
     "data": {
      "text/plain": [
       "'abcd'"
      ]
     },
     "execution_count": 98,
     "metadata": {},
     "output_type": "execute_result"
    }
   ],
   "source": [
    "s1 = 'abcd'\n",
    "s2 = s1\n",
    "s2 = 'kjl'\n",
    "s1"
   ]
  },
  {
   "cell_type": "code",
   "execution_count": 99,
   "id": "fb195b56",
   "metadata": {},
   "outputs": [
    {
     "data": {
      "text/plain": [
       "'kjl'"
      ]
     },
     "execution_count": 99,
     "metadata": {},
     "output_type": "execute_result"
    }
   ],
   "source": [
    "s2"
   ]
  },
  {
   "cell_type": "markdown",
   "id": "f1bed157",
   "metadata": {},
   "source": [
    "## copying with slicing"
   ]
  },
  {
   "cell_type": "code",
   "execution_count": 105,
   "id": "5003b882",
   "metadata": {},
   "outputs": [],
   "source": [
    "l1 = [1,2,3,4]\n",
    "l2 = l1"
   ]
  },
  {
   "cell_type": "code",
   "execution_count": 106,
   "id": "929feddd",
   "metadata": {},
   "outputs": [],
   "source": [
    "l2 = [4,5,6]\n"
   ]
  },
  {
   "cell_type": "code",
   "execution_count": 107,
   "id": "95ac5305",
   "metadata": {},
   "outputs": [
    {
     "data": {
      "text/plain": [
       "[1, 2, 3, 4]"
      ]
     },
     "execution_count": 107,
     "metadata": {},
     "output_type": "execute_result"
    }
   ],
   "source": [
    "l1"
   ]
  },
  {
   "cell_type": "code",
   "execution_count": 108,
   "id": "b03690eb",
   "metadata": {},
   "outputs": [],
   "source": [
    "l2 = l1\n",
    "l2.remove(2)"
   ]
  },
  {
   "cell_type": "code",
   "execution_count": 109,
   "id": "af43f8a8",
   "metadata": {},
   "outputs": [
    {
     "data": {
      "text/plain": [
       "[1, 3, 4]"
      ]
     },
     "execution_count": 109,
     "metadata": {},
     "output_type": "execute_result"
    }
   ],
   "source": [
    "l1"
   ]
  },
  {
   "cell_type": "code",
   "execution_count": 110,
   "id": "4107a0af",
   "metadata": {},
   "outputs": [],
   "source": [
    "l1 = [1,2,3,4]\n",
    "l2 = l1[:]"
   ]
  },
  {
   "cell_type": "code",
   "execution_count": 111,
   "id": "826998e7",
   "metadata": {},
   "outputs": [],
   "source": [
    "l2.remove(3)"
   ]
  },
  {
   "cell_type": "code",
   "execution_count": 112,
   "id": "c79548b6",
   "metadata": {},
   "outputs": [
    {
     "data": {
      "text/plain": [
       "[1, 2, 3, 4]"
      ]
     },
     "execution_count": 112,
     "metadata": {},
     "output_type": "execute_result"
    }
   ],
   "source": [
    "l1"
   ]
  },
  {
   "cell_type": "markdown",
   "id": "8ab35c8e",
   "metadata": {},
   "source": [
    "## len()"
   ]
  },
  {
   "cell_type": "code",
   "execution_count": 113,
   "id": "919d3917",
   "metadata": {},
   "outputs": [
    {
     "data": {
      "text/plain": [
       "3"
      ]
     },
     "execution_count": 113,
     "metadata": {},
     "output_type": "execute_result"
    }
   ],
   "source": [
    "len(l2)"
   ]
  },
  {
   "cell_type": "code",
   "execution_count": 114,
   "id": "108c4c8a",
   "metadata": {},
   "outputs": [
    {
     "data": {
      "text/plain": [
       "4"
      ]
     },
     "execution_count": 114,
     "metadata": {},
     "output_type": "execute_result"
    }
   ],
   "source": [
    "len(l1)"
   ]
  },
  {
   "cell_type": "markdown",
   "id": "b474105c",
   "metadata": {},
   "source": [
    "## changine the values with indexing"
   ]
  },
  {
   "cell_type": "code",
   "execution_count": 115,
   "id": "432d7d9f",
   "metadata": {},
   "outputs": [],
   "source": [
    "animals= ['cat', 'bat', 'rat', 'elephant']\n",
    "animals[1]='horse'"
   ]
  },
  {
   "cell_type": "code",
   "execution_count": 116,
   "id": "57c42206",
   "metadata": {},
   "outputs": [
    {
     "data": {
      "text/plain": [
       "['cat', 'horse', 'rat', 'elephant']"
      ]
     },
     "execution_count": 116,
     "metadata": {},
     "output_type": "execute_result"
    }
   ],
   "source": [
    "animals"
   ]
  },
  {
   "cell_type": "code",
   "execution_count": 117,
   "id": "a2326acc",
   "metadata": {},
   "outputs": [],
   "source": [
    "animals[-1]='12#4%'"
   ]
  },
  {
   "cell_type": "code",
   "execution_count": 118,
   "id": "b1e03724",
   "metadata": {},
   "outputs": [
    {
     "data": {
      "text/plain": [
       "['cat', 'horse', 'rat', '12#4%']"
      ]
     },
     "execution_count": 118,
     "metadata": {},
     "output_type": "execute_result"
    }
   ],
   "source": [
    "animals"
   ]
  },
  {
   "cell_type": "markdown",
   "id": "37864de4",
   "metadata": {},
   "source": [
    "## List Concatenation and List Replication"
   ]
  },
  {
   "cell_type": "code",
   "execution_count": 119,
   "id": "6715eeea",
   "metadata": {},
   "outputs": [
    {
     "data": {
      "text/plain": [
       "[1, 2, 3, 'a', 'b', 'c']"
      ]
     },
     "execution_count": 119,
     "metadata": {},
     "output_type": "execute_result"
    }
   ],
   "source": [
    "s1 = [1,2,3]\n",
    "s2=['a','b','c']\n",
    "s1+s2"
   ]
  },
  {
   "cell_type": "code",
   "execution_count": 120,
   "id": "423ea09f",
   "metadata": {},
   "outputs": [
    {
     "data": {
      "text/plain": [
       "[1, 2, 3, 1, 2, 3, 1, 2, 3]"
      ]
     },
     "execution_count": 120,
     "metadata": {},
     "output_type": "execute_result"
    }
   ],
   "source": [
    "s1*3"
   ]
  },
  {
   "cell_type": "code",
   "execution_count": 121,
   "id": "2018596e",
   "metadata": {},
   "outputs": [
    {
     "data": {
      "text/plain": [
       "['a', 'b', 'c', 'a', 'b', 'c', 'a', 'b', 'c']"
      ]
     },
     "execution_count": 121,
     "metadata": {},
     "output_type": "execute_result"
    }
   ],
   "source": [
    "s2*3"
   ]
  },
  {
   "cell_type": "code",
   "execution_count": 122,
   "id": "0c3004ee",
   "metadata": {},
   "outputs": [
    {
     "data": {
      "text/plain": [
       "[1, 2, 3, 'm', 'n', 'o']"
      ]
     },
     "execution_count": 122,
     "metadata": {},
     "output_type": "execute_result"
    }
   ],
   "source": [
    "s1 + ['m', 'n', 'o']"
   ]
  },
  {
   "cell_type": "code",
   "execution_count": 123,
   "id": "682492f9",
   "metadata": {},
   "outputs": [
    {
     "data": {
      "text/plain": [
       "[1, 2, 3, 1, 2, 3, 1, 2, 3, 1, 2, 3]"
      ]
     },
     "execution_count": 123,
     "metadata": {},
     "output_type": "execute_result"
    }
   ],
   "source": [
    "4*s1"
   ]
  },
  {
   "cell_type": "markdown",
   "id": "93198bd1",
   "metadata": {},
   "source": [
    "## Removing Values"
   ]
  },
  {
   "cell_type": "code",
   "execution_count": 126,
   "id": "1a33d936",
   "metadata": {},
   "outputs": [],
   "source": [
    "animals= ['cat', 'bat', 'rat', 'elephant']"
   ]
  },
  {
   "cell_type": "code",
   "execution_count": 127,
   "id": "d9d39565",
   "metadata": {},
   "outputs": [],
   "source": [
    "del animals[0]"
   ]
  },
  {
   "cell_type": "code",
   "execution_count": 128,
   "id": "85919cb7",
   "metadata": {},
   "outputs": [
    {
     "data": {
      "text/plain": [
       "['bat', 'rat', 'elephant']"
      ]
     },
     "execution_count": 128,
     "metadata": {},
     "output_type": "execute_result"
    }
   ],
   "source": [
    "animals"
   ]
  },
  {
   "cell_type": "code",
   "execution_count": 129,
   "id": "dfdbb196",
   "metadata": {},
   "outputs": [],
   "source": [
    "animals.remove('rat')"
   ]
  },
  {
   "cell_type": "code",
   "execution_count": 130,
   "id": "5135ab1f",
   "metadata": {},
   "outputs": [
    {
     "data": {
      "text/plain": [
       "['bat', 'elephant']"
      ]
     },
     "execution_count": 130,
     "metadata": {},
     "output_type": "execute_result"
    }
   ],
   "source": [
    "animals"
   ]
  },
  {
   "cell_type": "markdown",
   "id": "ca06713e",
   "metadata": {},
   "source": [
    "## Finding a Value in a List"
   ]
  },
  {
   "cell_type": "code",
   "execution_count": 131,
   "id": "77e50225",
   "metadata": {},
   "outputs": [
    {
     "data": {
      "text/plain": [
       "['MON', 'TUE', 'WED', 'THU', 'FRI', 'SAT', 'SUN']"
      ]
     },
     "execution_count": 131,
     "metadata": {},
     "output_type": "execute_result"
    }
   ],
   "source": [
    "days = ['MON', 'TUE', 'WED', 'THU', 'FRI', 'SAT', 'SUN']\n",
    "days"
   ]
  },
  {
   "cell_type": "code",
   "execution_count": 133,
   "id": "7c080b25",
   "metadata": {},
   "outputs": [
    {
     "data": {
      "text/plain": [
       "2"
      ]
     },
     "execution_count": 133,
     "metadata": {},
     "output_type": "execute_result"
    }
   ],
   "source": [
    "days.index('WED')"
   ]
  },
  {
   "cell_type": "code",
   "execution_count": 134,
   "id": "03aec758",
   "metadata": {},
   "outputs": [
    {
     "data": {
      "text/plain": [
       "6"
      ]
     },
     "execution_count": 134,
     "metadata": {},
     "output_type": "execute_result"
    }
   ],
   "source": [
    "days.index('SUN')"
   ]
  },
  {
   "cell_type": "code",
   "execution_count": 135,
   "id": "3b6e3fbd",
   "metadata": {},
   "outputs": [
    {
     "data": {
      "text/plain": [
       "True"
      ]
     },
     "execution_count": 135,
     "metadata": {},
     "output_type": "execute_result"
    }
   ],
   "source": [
    "'MON' in days"
   ]
  },
  {
   "cell_type": "code",
   "execution_count": 136,
   "id": "3d7e79fa",
   "metadata": {},
   "outputs": [
    {
     "data": {
      "text/plain": [
       "False"
      ]
     },
     "execution_count": 136,
     "metadata": {},
     "output_type": "execute_result"
    }
   ],
   "source": [
    "'MON' not in days"
   ]
  },
  {
   "cell_type": "code",
   "execution_count": 137,
   "id": "f559c157",
   "metadata": {},
   "outputs": [
    {
     "data": {
      "text/plain": [
       "True"
      ]
     },
     "execution_count": 137,
     "metadata": {},
     "output_type": "execute_result"
    }
   ],
   "source": [
    "'Me' not in days"
   ]
  },
  {
   "cell_type": "markdown",
   "id": "1899aa13",
   "metadata": {},
   "source": [
    "## The Multiple Assignment Trick"
   ]
  },
  {
   "cell_type": "code",
   "execution_count": 138,
   "id": "fe8f75dd",
   "metadata": {},
   "outputs": [],
   "source": [
    "prop = [150, 50 , 'blue']\n",
    "height = prop[0]\n",
    "weight = prop[1]\n",
    "color = prop[2]"
   ]
  },
  {
   "cell_type": "code",
   "execution_count": 139,
   "id": "eca5153c",
   "metadata": {},
   "outputs": [
    {
     "data": {
      "text/plain": [
       "150"
      ]
     },
     "execution_count": 139,
     "metadata": {},
     "output_type": "execute_result"
    }
   ],
   "source": [
    "height"
   ]
  },
  {
   "cell_type": "code",
   "execution_count": 140,
   "id": "6d075ceb",
   "metadata": {},
   "outputs": [
    {
     "data": {
      "text/plain": [
       "50"
      ]
     },
     "execution_count": 140,
     "metadata": {},
     "output_type": "execute_result"
    }
   ],
   "source": [
    "weight"
   ]
  },
  {
   "cell_type": "code",
   "execution_count": 141,
   "id": "fa559628",
   "metadata": {},
   "outputs": [
    {
     "data": {
      "text/plain": [
       "'blue'"
      ]
     },
     "execution_count": 141,
     "metadata": {},
     "output_type": "execute_result"
    }
   ],
   "source": [
    "color"
   ]
  },
  {
   "cell_type": "code",
   "execution_count": 142,
   "id": "a8b6a2d8",
   "metadata": {},
   "outputs": [],
   "source": [
    "prop = [170, 65 , 'red']"
   ]
  },
  {
   "cell_type": "code",
   "execution_count": 143,
   "id": "a4586ba9",
   "metadata": {},
   "outputs": [],
   "source": [
    "height, weight, color = prop"
   ]
  },
  {
   "cell_type": "code",
   "execution_count": 144,
   "id": "1b974585",
   "metadata": {},
   "outputs": [
    {
     "data": {
      "text/plain": [
       "170"
      ]
     },
     "execution_count": 144,
     "metadata": {},
     "output_type": "execute_result"
    }
   ],
   "source": [
    "height"
   ]
  },
  {
   "cell_type": "code",
   "execution_count": 145,
   "id": "48834bd3",
   "metadata": {},
   "outputs": [
    {
     "data": {
      "text/plain": [
       "65"
      ]
     },
     "execution_count": 145,
     "metadata": {},
     "output_type": "execute_result"
    }
   ],
   "source": [
    "weight"
   ]
  },
  {
   "cell_type": "code",
   "execution_count": 146,
   "id": "5d4ac8f1",
   "metadata": {},
   "outputs": [
    {
     "data": {
      "text/plain": [
       "'red'"
      ]
     },
     "execution_count": 146,
     "metadata": {},
     "output_type": "execute_result"
    }
   ],
   "source": [
    "color"
   ]
  },
  {
   "cell_type": "code",
   "execution_count": 147,
   "id": "1c670000",
   "metadata": {},
   "outputs": [],
   "source": [
    "a,b = 'alice', 'bob'"
   ]
  },
  {
   "cell_type": "code",
   "execution_count": 148,
   "id": "0c532dad",
   "metadata": {},
   "outputs": [
    {
     "data": {
      "text/plain": [
       "'alice'"
      ]
     },
     "execution_count": 148,
     "metadata": {},
     "output_type": "execute_result"
    }
   ],
   "source": [
    "a"
   ]
  },
  {
   "cell_type": "code",
   "execution_count": 149,
   "id": "7866124d",
   "metadata": {},
   "outputs": [
    {
     "data": {
      "text/plain": [
       "'bob'"
      ]
     },
     "execution_count": 149,
     "metadata": {},
     "output_type": "execute_result"
    }
   ],
   "source": [
    "b"
   ]
  },
  {
   "cell_type": "code",
   "execution_count": 150,
   "id": "27268784",
   "metadata": {},
   "outputs": [],
   "source": [
    "b,a = a,b"
   ]
  },
  {
   "cell_type": "code",
   "execution_count": 151,
   "id": "45ad340b",
   "metadata": {},
   "outputs": [
    {
     "data": {
      "text/plain": [
       "'bob'"
      ]
     },
     "execution_count": 151,
     "metadata": {},
     "output_type": "execute_result"
    }
   ],
   "source": [
    "a"
   ]
  },
  {
   "cell_type": "code",
   "execution_count": 152,
   "id": "4f76f615",
   "metadata": {},
   "outputs": [
    {
     "data": {
      "text/plain": [
       "'alice'"
      ]
     },
     "execution_count": 152,
     "metadata": {},
     "output_type": "execute_result"
    }
   ],
   "source": [
    "b"
   ]
  },
  {
   "cell_type": "markdown",
   "id": "51caf497",
   "metadata": {},
   "source": [
    "## Adding Values to Lists with the append() and insert() "
   ]
  },
  {
   "cell_type": "code",
   "execution_count": 153,
   "id": "05040dc8",
   "metadata": {},
   "outputs": [],
   "source": [
    "# append()\n",
    "animals= ['cat', 'bat', 'rat', 'elephant']\n",
    "animals.append('tiger')"
   ]
  },
  {
   "cell_type": "code",
   "execution_count": 154,
   "id": "a4d7a0fa",
   "metadata": {},
   "outputs": [
    {
     "data": {
      "text/plain": [
       "['cat', 'bat', 'rat', 'elephant', 'tiger']"
      ]
     },
     "execution_count": 154,
     "metadata": {},
     "output_type": "execute_result"
    }
   ],
   "source": [
    "animals"
   ]
  },
  {
   "cell_type": "code",
   "execution_count": 156,
   "id": "ea076877",
   "metadata": {},
   "outputs": [],
   "source": [
    "animals.insert(2, 'lion')"
   ]
  },
  {
   "cell_type": "code",
   "execution_count": 157,
   "id": "26df6145",
   "metadata": {},
   "outputs": [
    {
     "data": {
      "text/plain": [
       "['cat', 'bat', 'lion', 'rat', 'elephant', 'tiger']"
      ]
     },
     "execution_count": 157,
     "metadata": {},
     "output_type": "execute_result"
    }
   ],
   "source": [
    "animals"
   ]
  },
  {
   "cell_type": "code",
   "execution_count": 160,
   "id": "f0a2c18e",
   "metadata": {},
   "outputs": [],
   "source": [
    "animals.insert(6, 'camel')"
   ]
  },
  {
   "cell_type": "code",
   "execution_count": 161,
   "id": "0984bd01",
   "metadata": {},
   "outputs": [
    {
     "data": {
      "text/plain": [
       "['cat', 'bat', 'lion', 'rat', 'elephant', 'camel', 'camel', 'tiger']"
      ]
     },
     "execution_count": 161,
     "metadata": {},
     "output_type": "execute_result"
    }
   ],
   "source": [
    "animals"
   ]
  },
  {
   "cell_type": "code",
   "execution_count": 162,
   "id": "a9d6dc43",
   "metadata": {},
   "outputs": [],
   "source": [
    "animals.remove('camel')"
   ]
  },
  {
   "cell_type": "code",
   "execution_count": 163,
   "id": "a06195da",
   "metadata": {},
   "outputs": [
    {
     "data": {
      "text/plain": [
       "['cat', 'bat', 'lion', 'rat', 'elephant', 'camel', 'tiger']"
      ]
     },
     "execution_count": 163,
     "metadata": {},
     "output_type": "execute_result"
    }
   ],
   "source": [
    "animals"
   ]
  },
  {
   "cell_type": "code",
   "execution_count": 164,
   "id": "3bf6fe73",
   "metadata": {},
   "outputs": [],
   "source": [
    "animals.insert(2, 'camel')"
   ]
  },
  {
   "cell_type": "code",
   "execution_count": 165,
   "id": "8f584e54",
   "metadata": {},
   "outputs": [
    {
     "data": {
      "text/plain": [
       "['cat', 'bat', 'camel', 'lion', 'rat', 'elephant', 'camel', 'tiger']"
      ]
     },
     "execution_count": 165,
     "metadata": {},
     "output_type": "execute_result"
    }
   ],
   "source": [
    "animals"
   ]
  },
  {
   "cell_type": "code",
   "execution_count": 166,
   "id": "9d72fda2",
   "metadata": {},
   "outputs": [],
   "source": [
    "animals.remove('camel')"
   ]
  },
  {
   "cell_type": "code",
   "execution_count": 167,
   "id": "09ed6eaa",
   "metadata": {},
   "outputs": [
    {
     "data": {
      "text/plain": [
       "['cat', 'bat', 'lion', 'rat', 'elephant', 'camel', 'tiger']"
      ]
     },
     "execution_count": 167,
     "metadata": {},
     "output_type": "execute_result"
    }
   ],
   "source": [
    "animals"
   ]
  },
  {
   "cell_type": "markdown",
   "id": "483c2739",
   "metadata": {},
   "source": [
    "## Sorting values"
   ]
  },
  {
   "cell_type": "code",
   "execution_count": 168,
   "id": "fa45cee5",
   "metadata": {},
   "outputs": [],
   "source": [
    "nums = [2, 5, 3.14, 1, -7]"
   ]
  },
  {
   "cell_type": "code",
   "execution_count": 169,
   "id": "5690a040",
   "metadata": {},
   "outputs": [],
   "source": [
    "nums.sort()"
   ]
  },
  {
   "cell_type": "code",
   "execution_count": 170,
   "id": "ff43e92d",
   "metadata": {},
   "outputs": [
    {
     "data": {
      "text/plain": [
       "[-7, 1, 2, 3.14, 5]"
      ]
     },
     "execution_count": 170,
     "metadata": {},
     "output_type": "execute_result"
    }
   ],
   "source": [
    "nums"
   ]
  },
  {
   "cell_type": "code",
   "execution_count": 171,
   "id": "317b79de",
   "metadata": {},
   "outputs": [
    {
     "data": {
      "text/plain": [
       "['cat', 'bat', 'lion', 'rat', 'elephant', 'camel', 'tiger']"
      ]
     },
     "execution_count": 171,
     "metadata": {},
     "output_type": "execute_result"
    }
   ],
   "source": [
    "animals"
   ]
  },
  {
   "cell_type": "code",
   "execution_count": 176,
   "id": "3fbcfca4",
   "metadata": {},
   "outputs": [],
   "source": [
    "animals.sort()"
   ]
  },
  {
   "cell_type": "code",
   "execution_count": 177,
   "id": "58a77eb7",
   "metadata": {},
   "outputs": [
    {
     "data": {
      "text/plain": [
       "['bat', 'camel', 'cat', 'elephant', 'lion', 'rat', 'tiger']"
      ]
     },
     "execution_count": 177,
     "metadata": {},
     "output_type": "execute_result"
    }
   ],
   "source": [
    "animals"
   ]
  },
  {
   "cell_type": "code",
   "execution_count": 178,
   "id": "1ba8fc36",
   "metadata": {},
   "outputs": [],
   "source": [
    "animals.sort(reverse = True)"
   ]
  },
  {
   "cell_type": "code",
   "execution_count": 179,
   "id": "c1fadda8",
   "metadata": {},
   "outputs": [
    {
     "data": {
      "text/plain": [
       "['tiger', 'rat', 'lion', 'elephant', 'cat', 'camel', 'bat']"
      ]
     },
     "execution_count": 179,
     "metadata": {},
     "output_type": "execute_result"
    }
   ],
   "source": [
    "animals"
   ]
  },
  {
   "cell_type": "code",
   "execution_count": 180,
   "id": "f39192e0",
   "metadata": {},
   "outputs": [],
   "source": [
    "anims = ['ants', 'cats', 'dogs', 'badgers', 'elephants']"
   ]
  },
  {
   "cell_type": "code",
   "execution_count": 182,
   "id": "0c280d3c",
   "metadata": {},
   "outputs": [
    {
     "data": {
      "text/plain": [
       "['ants', 'badgers', 'cats', 'dogs', 'elephants']"
      ]
     },
     "execution_count": 182,
     "metadata": {},
     "output_type": "execute_result"
    }
   ],
   "source": [
    "# builtin function\n",
    "sorted(anims)"
   ]
  },
  {
   "cell_type": "markdown",
   "id": "1b913df6",
   "metadata": {},
   "source": [
    "## Processing lists"
   ]
  },
  {
   "cell_type": "code",
   "execution_count": 183,
   "id": "f0d47d56",
   "metadata": {},
   "outputs": [
    {
     "name": "stdout",
     "output_type": "stream",
     "text": [
      "tiger\n",
      "rat\n",
      "lion\n",
      "elephant\n",
      "cat\n",
      "camel\n",
      "bat\n"
     ]
    }
   ],
   "source": [
    "# for\n",
    "for animal in animals:\n",
    "    print(animal)"
   ]
  },
  {
   "cell_type": "code",
   "execution_count": 188,
   "id": "d80ebf84",
   "metadata": {},
   "outputs": [
    {
     "name": "stdout",
     "output_type": "stream",
     "text": [
      "tiger\n",
      "rat\n",
      "lion\n",
      "elephant\n",
      "cat\n",
      "camel\n",
      "bat\n"
     ]
    }
   ],
   "source": [
    "index = 0\n",
    "while index < len(animals):\n",
    "    print(animals[index])\n",
    "    index += 1"
   ]
  },
  {
   "cell_type": "markdown",
   "id": "28f36c60",
   "metadata": {},
   "source": [
    "### itereate through multiple lists"
   ]
  },
  {
   "cell_type": "code",
   "execution_count": 189,
   "id": "9cb9620d",
   "metadata": {},
   "outputs": [],
   "source": [
    "name = ['Ali', 'Ahmad', 'Sara']\n",
    "age = [20, 15, 17]"
   ]
  },
  {
   "cell_type": "code",
   "execution_count": 190,
   "id": "8cddcff2",
   "metadata": {
    "scrolled": true
   },
   "outputs": [
    {
     "name": "stdout",
     "output_type": "stream",
     "text": [
      "Ali is 20 years old\n",
      "Ahmad is 15 years old\n",
      "Sara is 17 years old\n"
     ]
    }
   ],
   "source": [
    "for n,a in zip(name, age):\n",
    "    print('{} is {} years old'.format(n,a))"
   ]
  },
  {
   "cell_type": "markdown",
   "id": "ade810b6",
   "metadata": {},
   "source": [
    "## Multidimentianal lists (matrics)"
   ]
  },
  {
   "cell_type": "code",
   "execution_count": 256,
   "id": "2a3133e9",
   "metadata": {},
   "outputs": [],
   "source": [
    "mat = [[1,2,3],[3,4,5]] # 2x3"
   ]
  },
  {
   "cell_type": "code",
   "execution_count": 257,
   "id": "6fccf7e1",
   "metadata": {},
   "outputs": [
    {
     "data": {
      "text/plain": [
       "3"
      ]
     },
     "execution_count": 257,
     "metadata": {},
     "output_type": "execute_result"
    }
   ],
   "source": [
    "mat[0][2]"
   ]
  },
  {
   "cell_type": "code",
   "execution_count": 258,
   "id": "4cf03b53",
   "metadata": {},
   "outputs": [
    {
     "data": {
      "text/plain": [
       "4"
      ]
     },
     "execution_count": 258,
     "metadata": {},
     "output_type": "execute_result"
    }
   ],
   "source": [
    "mat[1][1]"
   ]
  },
  {
   "cell_type": "code",
   "execution_count": 265,
   "id": "f40c9ddf",
   "metadata": {},
   "outputs": [
    {
     "data": {
      "text/plain": [
       "6"
      ]
     },
     "execution_count": 265,
     "metadata": {},
     "output_type": "execute_result"
    }
   ],
   "source": [
    "mat = [[1,2,3], [4,5,6], [7,8,9]]\n",
    "mat[1][2]"
   ]
  },
  {
   "cell_type": "markdown",
   "id": "e499b8e1",
   "metadata": {},
   "source": []
  },
  {
   "cell_type": "code",
   "execution_count": 259,
   "id": "78c2c35e",
   "metadata": {},
   "outputs": [],
   "source": [
    "mat2 = [[1,2,3],['t', 'abc', '20'], ['My name', 'Tehran', 'a', [50, 'Python']]]"
   ]
  },
  {
   "cell_type": "code",
   "execution_count": 261,
   "id": "35446901",
   "metadata": {},
   "outputs": [
    {
     "data": {
      "text/plain": [
       "'Python'"
      ]
     },
     "execution_count": 261,
     "metadata": {},
     "output_type": "execute_result"
    }
   ],
   "source": [
    "mat2[2][3][1]"
   ]
  },
  {
   "cell_type": "code",
   "execution_count": null,
   "id": "424c2f41",
   "metadata": {},
   "outputs": [],
   "source": []
  }
 ],
 "metadata": {
  "kernelspec": {
   "display_name": "Python 3 (ipykernel)",
   "language": "python",
   "name": "python3"
  },
  "language_info": {
   "codemirror_mode": {
    "name": "ipython",
    "version": 3
   },
   "file_extension": ".py",
   "mimetype": "text/x-python",
   "name": "python",
   "nbconvert_exporter": "python",
   "pygments_lexer": "ipython3",
   "version": "3.9.13"
  }
 },
 "nbformat": 4,
 "nbformat_minor": 5
}
