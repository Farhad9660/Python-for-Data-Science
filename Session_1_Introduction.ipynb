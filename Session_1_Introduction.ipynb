{
 "cells": [
  {
   "cell_type": "markdown",
   "id": "28cb9563",
   "metadata": {},
   "source": [
    "\n",
    "\n",
    "<div class=\"alert alert-info\">\n",
    "  <h1>Introduction</h1>\n",
    "</div>"
   ]
  },
  {
   "cell_type": "markdown",
   "id": "6f85951c",
   "metadata": {},
   "source": [
    "## Basics"
   ]
  },
  {
   "cell_type": "code",
   "execution_count": 3,
   "id": "1e0cbba5",
   "metadata": {},
   "outputs": [
    {
     "data": {
      "text/plain": [
       "9"
      ]
     },
     "execution_count": 3,
     "metadata": {},
     "output_type": "execute_result"
    }
   ],
   "source": [
    "5+4"
   ]
  },
  {
   "cell_type": "code",
   "execution_count": 6,
   "id": "b9623aa8",
   "metadata": {
    "scrolled": true
   },
   "outputs": [
    {
     "name": "stdout",
     "output_type": "stream",
     "text": [
      "Hello World!\n"
     ]
    }
   ],
   "source": [
    "print('Hello World!')"
   ]
  },
  {
   "cell_type": "code",
   "execution_count": 7,
   "id": "ad20111e",
   "metadata": {},
   "outputs": [],
   "source": [
    "s = ('Hello World!')"
   ]
  },
  {
   "cell_type": "code",
   "execution_count": 8,
   "id": "9d86abe0",
   "metadata": {
    "scrolled": true
   },
   "outputs": [
    {
     "data": {
      "text/plain": [
       "'Hello World!'"
      ]
     },
     "execution_count": 8,
     "metadata": {},
     "output_type": "execute_result"
    }
   ],
   "source": [
    "s"
   ]
  },
  {
   "cell_type": "code",
   "execution_count": 9,
   "id": "3fac5f1c",
   "metadata": {},
   "outputs": [
    {
     "data": {
      "text/plain": [
       "3"
      ]
     },
     "execution_count": 9,
     "metadata": {},
     "output_type": "execute_result"
    }
   ],
   "source": [
    "1+2"
   ]
  },
  {
   "cell_type": "code",
   "execution_count": 10,
   "id": "8908a0eb",
   "metadata": {},
   "outputs": [
    {
     "data": {
      "text/plain": [
       "1.5"
      ]
     },
     "execution_count": 10,
     "metadata": {},
     "output_type": "execute_result"
    }
   ],
   "source": [
    "\"'1 +0.5'\""
   ]
  },
  {
   "cell_type": "code",
   "execution_count": 11,
   "id": "ad124355",
   "metadata": {},
   "outputs": [
    {
     "data": {
      "text/plain": [
       "10"
      ]
     },
     "execution_count": 11,
     "metadata": {},
     "output_type": "execute_result"
    }
   ],
   "source": [
    "(2*5)"
   ]
  },
  {
   "cell_type": "code",
   "execution_count": 12,
   "id": "4419dc35",
   "metadata": {},
   "outputs": [
    {
     "data": {
      "text/plain": [
       "2.0"
      ]
     },
     "execution_count": 12,
     "metadata": {},
     "output_type": "execute_result"
    }
   ],
   "source": [
    "(10/5)"
   ]
  },
  {
   "cell_type": "code",
   "execution_count": 13,
   "id": "7d50c39a",
   "metadata": {},
   "outputs": [
    {
     "ename": "SyntaxError",
     "evalue": "unexpected character after line continuation character (<ipython-input-13-eb1688996056>, line 1)",
     "output_type": "error",
     "traceback": [
      "\u001b[1;36m  File \u001b[1;32m\"<ipython-input-13-eb1688996056>\"\u001b[1;36m, line \u001b[1;32m1\u001b[0m\n\u001b[1;33m    10\\5\u001b[0m\n\u001b[1;37m        ^\u001b[0m\n\u001b[1;31mSyntaxError\u001b[0m\u001b[1;31m:\u001b[0m unexpected character after line continuation character\n"
     ]
    }
   ],
   "source": [
    "10\\5"
   ]
  },
  {
   "cell_type": "code",
   "execution_count": 14,
   "id": "317c9fe6",
   "metadata": {},
   "outputs": [
    {
     "ename": "SyntaxError",
     "evalue": "invalid syntax (<ipython-input-14-cbe6e25403ba>, line 1)",
     "output_type": "error",
     "traceback": [
      "\u001b[1;36m  File \u001b[1;32m\"<ipython-input-14-cbe6e25403ba>\"\u001b[1;36m, line \u001b[1;32m1\u001b[0m\n\u001b[1;33m    10 div 3\u001b[0m\n\u001b[1;37m       ^\u001b[0m\n\u001b[1;31mSyntaxError\u001b[0m\u001b[1;31m:\u001b[0m invalid syntax\n"
     ]
    }
   ],
   "source": [
    "10 div 3"
   ]
  },
  {
   "cell_type": "code",
   "execution_count": 15,
   "id": "de518b8f",
   "metadata": {},
   "outputs": [
    {
     "data": {
      "text/plain": [
       "3.3333333333333335"
      ]
     },
     "execution_count": 15,
     "metadata": {},
     "output_type": "execute_result"
    }
   ],
   "source": [
    "10/3"
   ]
  },
  {
   "cell_type": "code",
   "execution_count": 16,
   "id": "bc16ab0f",
   "metadata": {},
   "outputs": [
    {
     "ename": "SyntaxError",
     "evalue": "invalid syntax (<ipython-input-16-85b921ad3d95>, line 1)",
     "output_type": "error",
     "traceback": [
      "\u001b[1;36m  File \u001b[1;32m\"<ipython-input-16-85b921ad3d95>\"\u001b[1;36m, line \u001b[1;32m1\u001b[0m\n\u001b[1;33m    10 mod 3\u001b[0m\n\u001b[1;37m       ^\u001b[0m\n\u001b[1;31mSyntaxError\u001b[0m\u001b[1;31m:\u001b[0m invalid syntax\n"
     ]
    }
   ],
   "source": [
    "10 mod 3"
   ]
  },
  {
   "cell_type": "code",
   "execution_count": 17,
   "id": "b7d226ab",
   "metadata": {},
   "outputs": [
    {
     "data": {
      "text/plain": [
       "2"
      ]
     },
     "execution_count": 17,
     "metadata": {},
     "output_type": "execute_result"
    }
   ],
   "source": [
    "5//2"
   ]
  },
  {
   "cell_type": "code",
   "execution_count": 18,
   "id": "5bee6cc8",
   "metadata": {},
   "outputs": [
    {
     "data": {
      "text/plain": [
       "4.0"
      ]
     },
     "execution_count": 18,
     "metadata": {},
     "output_type": "execute_result"
    }
   ],
   "source": [
    "10//2.5"
   ]
  },
  {
   "cell_type": "code",
   "execution_count": 19,
   "id": "5ed81af9",
   "metadata": {},
   "outputs": [
    {
     "data": {
      "text/plain": [
       "3.3333333333333335"
      ]
     },
     "execution_count": 19,
     "metadata": {},
     "output_type": "execute_result"
    }
   ],
   "source": [
    "10/3"
   ]
  },
  {
   "cell_type": "code",
   "execution_count": 20,
   "id": "f4884e76",
   "metadata": {},
   "outputs": [
    {
     "data": {
      "text/plain": [
       "3.3333333333333335"
      ]
     },
     "execution_count": 20,
     "metadata": {},
     "output_type": "execute_result"
    }
   ],
   "source": [
    "10/3"
   ]
  },
  {
   "cell_type": "code",
   "execution_count": 21,
   "id": "730ec33a",
   "metadata": {},
   "outputs": [
    {
     "data": {
      "text/plain": [
       "3"
      ]
     },
     "execution_count": 21,
     "metadata": {},
     "output_type": "execute_result"
    }
   ],
   "source": [
    "10//3"
   ]
  },
  {
   "cell_type": "code",
   "execution_count": 22,
   "id": "17be3e9c",
   "metadata": {},
   "outputs": [
    {
     "data": {
      "text/plain": [
       "3.0"
      ]
     },
     "execution_count": 22,
     "metadata": {},
     "output_type": "execute_result"
    }
   ],
   "source": [
    "10//3.0"
   ]
  },
  {
   "cell_type": "code",
   "execution_count": 23,
   "id": "b67e0ea2",
   "metadata": {},
   "outputs": [
    {
     "data": {
      "text/plain": [
       "1"
      ]
     },
     "execution_count": 23,
     "metadata": {},
     "output_type": "execute_result"
    }
   ],
   "source": [
    "# 10 % 3"
   ]
  },
  {
   "cell_type": "code",
   "execution_count": 24,
   "id": "2f35ef2d",
   "metadata": {},
   "outputs": [
    {
     "data": {
      "text/plain": [
       "3"
      ]
     },
     "execution_count": 24,
     "metadata": {},
     "output_type": "execute_result"
    }
   ],
   "source": [
    "# (10 //3)\n",
    "# 1+3\n",
    "# 4+7"
   ]
  },
  {
   "cell_type": "code",
   "execution_count": 25,
   "id": "46c9fc89",
   "metadata": {},
   "outputs": [
    {
     "data": {
      "text/plain": [
       "1"
      ]
     },
     "execution_count": 25,
     "metadata": {},
     "output_type": "execute_result"
    }
   ],
   "source": [
    "10%3"
   ]
  },
  {
   "cell_type": "code",
   "execution_count": 26,
   "id": "43990448",
   "metadata": {},
   "outputs": [
    {
     "data": {
      "text/plain": [
       "8"
      ]
     },
     "execution_count": 26,
     "metadata": {},
     "output_type": "execute_result"
    }
   ],
   "source": [
    "2 **3"
   ]
  },
  {
   "cell_type": "code",
   "execution_count": 27,
   "id": "409e2d6a",
   "metadata": {},
   "outputs": [
    {
     "data": {
      "text/plain": [
       "12.0"
      ]
     },
     "execution_count": 27,
     "metadata": {},
     "output_type": "execute_result"
    }
   ],
   "source": [
    "10+4/2"
   ]
  },
  {
   "cell_type": "code",
   "execution_count": 28,
   "id": "c42bf352",
   "metadata": {},
   "outputs": [
    {
     "data": {
      "text/plain": [
       "0.32"
      ]
     },
     "execution_count": 28,
     "metadata": {},
     "output_type": "execute_result"
    }
   ],
   "source": [
    "2*4/5**2"
   ]
  },
  {
   "cell_type": "code",
   "execution_count": 29,
   "id": "f181686c",
   "metadata": {},
   "outputs": [
    {
     "data": {
      "text/plain": [
       "0.32"
      ]
     },
     "execution_count": 29,
     "metadata": {},
     "output_type": "execute_result"
    }
   ],
   "source": [
    "(2*4)/(5**2)"
   ]
  },
  {
   "cell_type": "code",
   "execution_count": 3,
   "id": "b498d804",
   "metadata": {},
   "outputs": [
    {
     "data": {
      "text/plain": [
       "1000"
      ]
     },
     "execution_count": 3,
     "metadata": {},
     "output_type": "execute_result"
    }
   ],
   "source": [
    "pow(10,3)"
   ]
  },
  {
   "cell_type": "code",
   "execution_count": 2,
   "id": "8271a008",
   "metadata": {},
   "outputs": [
    {
     "data": {
      "text/plain": [
       "256"
      ]
     },
     "execution_count": 2,
     "metadata": {},
     "output_type": "execute_result"
    }
   ],
   "source": [
    "pow(2,8)"
   ]
  },
  {
   "cell_type": "code",
   "execution_count": 9,
   "id": "efa2a134",
   "metadata": {},
   "outputs": [
    {
     "data": {
      "text/plain": [
       "1"
      ]
     },
     "execution_count": 9,
     "metadata": {},
     "output_type": "execute_result"
    }
   ],
   "source": [
    "pow(2,8,3)"
   ]
  },
  {
   "cell_type": "code",
   "execution_count": 30,
   "id": "e6e7667e",
   "metadata": {},
   "outputs": [
    {
     "data": {
      "text/plain": [
       "-5"
      ]
     },
     "execution_count": 30,
     "metadata": {},
     "output_type": "execute_result"
    }
   ],
   "source": [
    "-5"
   ]
  },
  {
   "cell_type": "code",
   "execution_count": 31,
   "id": "61bb078e",
   "metadata": {},
   "outputs": [
    {
     "data": {
      "text/plain": [
       "5"
      ]
     },
     "execution_count": 31,
     "metadata": {},
     "output_type": "execute_result"
    }
   ],
   "source": [
    "abs(-5)"
   ]
  },
  {
   "cell_type": "code",
   "execution_count": 32,
   "id": "94fa986d",
   "metadata": {},
   "outputs": [
    {
     "name": "stdout",
     "output_type": "stream",
     "text": [
      "436\n"
     ]
    }
   ],
   "source": [
    "print(abs(-436))"
   ]
  },
  {
   "cell_type": "code",
   "execution_count": 33,
   "id": "37381beb",
   "metadata": {},
   "outputs": [
    {
     "name": "stdout",
     "output_type": "stream",
     "text": [
      "-45\n"
     ]
    }
   ],
   "source": [
    "a = -45\n",
    "print(a)"
   ]
  },
  {
   "cell_type": "code",
   "execution_count": 34,
   "id": "ab38a7c2",
   "metadata": {},
   "outputs": [
    {
     "name": "stdout",
     "output_type": "stream",
     "text": [
      "45\n"
     ]
    }
   ],
   "source": [
    "print (abs(a))"
   ]
  },
  {
   "cell_type": "code",
   "execution_count": 35,
   "id": "80d008db",
   "metadata": {},
   "outputs": [
    {
     "data": {
      "text/plain": [
       "4"
      ]
     },
     "execution_count": 35,
     "metadata": {},
     "output_type": "execute_result"
    }
   ],
   "source": [
    "round(4.3)"
   ]
  },
  {
   "cell_type": "code",
   "execution_count": 36,
   "id": "c4fee180",
   "metadata": {},
   "outputs": [
    {
     "ename": "NameError",
     "evalue": "name 'floor' is not defined",
     "output_type": "error",
     "traceback": [
      "\u001b[1;31m---------------------------------------------------------------------------\u001b[0m",
      "\u001b[1;31mNameError\u001b[0m                                 Traceback (most recent call last)",
      "\u001b[1;32m<ipython-input-36-ce80df7eca0a>\u001b[0m in \u001b[0;36m<module>\u001b[1;34m\u001b[0m\n\u001b[1;32m----> 1\u001b[1;33m \u001b[0mfloor\u001b[0m\u001b[1;33m(\u001b[0m\u001b[1;36m4.3\u001b[0m\u001b[1;33m)\u001b[0m\u001b[1;33m\u001b[0m\u001b[1;33m\u001b[0m\u001b[0m\n\u001b[0m",
      "\u001b[1;31mNameError\u001b[0m: name 'floor' is not defined"
     ]
    }
   ],
   "source": []
  },
  {
   "cell_type": "code",
   "execution_count": 37,
   "id": "bea2e11f",
   "metadata": {},
   "outputs": [],
   "source": [
    "b = 5.0"
   ]
  },
  {
   "cell_type": "code",
   "execution_count": 38,
   "id": "b196fb86",
   "metadata": {},
   "outputs": [],
   "source": [
    "b?"
   ]
  },
  {
   "cell_type": "code",
   "execution_count": 42,
   "id": "eeb0bf50",
   "metadata": {},
   "outputs": [
    {
     "data": {
      "text/plain": [
       "10.235"
      ]
     },
     "execution_count": 42,
     "metadata": {},
     "output_type": "execute_result"
    }
   ],
   "source": [
    "round(10.2345 , 3) "
   ]
  },
  {
   "cell_type": "code",
   "execution_count": 46,
   "id": "4e5d0266",
   "metadata": {},
   "outputs": [
    {
     "data": {
      "text/plain": [
       "13200.0"
      ]
     },
     "execution_count": 46,
     "metadata": {},
     "output_type": "execute_result"
    }
   ],
   "source": [
    "round(13234.2345 , -2) "
   ]
  },
  {
   "cell_type": "code",
   "execution_count": 47,
   "id": "6468b8be",
   "metadata": {},
   "outputs": [
    {
     "name": "stdout",
     "output_type": "stream",
     "text": [
      "4\n"
     ]
    }
   ],
   "source": [
    "a = 4\n",
    "print(a)"
   ]
  },
  {
   "cell_type": "code",
   "execution_count": 48,
   "id": "845933b6",
   "metadata": {},
   "outputs": [
    {
     "data": {
      "text/plain": [
       "13"
      ]
     },
     "execution_count": 48,
     "metadata": {},
     "output_type": "execute_result"
    }
   ],
   "source": [
    "a =5\n",
    "b= 8\n",
    "c =a+b\n",
    "c"
   ]
  },
  {
   "cell_type": "code",
   "execution_count": 49,
   "id": "2caf0dd6",
   "metadata": {},
   "outputs": [
    {
     "name": "stdout",
     "output_type": "stream",
     "text": [
      "13\n"
     ]
    }
   ],
   "source": [
    "print(c)"
   ]
  },
  {
   "cell_type": "code",
   "execution_count": 50,
   "id": "54a35dc9",
   "metadata": {},
   "outputs": [
    {
     "name": "stdout",
     "output_type": "stream",
     "text": [
      "c is :  13\n"
     ]
    }
   ],
   "source": [
    "print (\"c is : \", c)"
   ]
  },
  {
   "cell_type": "code",
   "execution_count": 51,
   "id": "f5c2b35e",
   "metadata": {},
   "outputs": [
    {
     "name": "stdout",
     "output_type": "stream",
     "text": [
      "My name is: Mohammad\n"
     ]
    }
   ],
   "source": [
    "name = 'Mohammad'\n",
    "print('My name is:', name)"
   ]
  },
  {
   "cell_type": "code",
   "execution_count": 52,
   "id": "56b6d322",
   "metadata": {},
   "outputs": [],
   "source": [
    "family_name = 'Amini'"
   ]
  },
  {
   "cell_type": "code",
   "execution_count": 53,
   "id": "4416da26",
   "metadata": {},
   "outputs": [
    {
     "name": "stdout",
     "output_type": "stream",
     "text": [
      "My name is: Mohammad Amini\n"
     ]
    }
   ],
   "source": [
    "print('My name is:', name, family_name)"
   ]
  },
  {
   "cell_type": "code",
   "execution_count": 57,
   "id": "245e4d42",
   "metadata": {},
   "outputs": [
    {
     "name": "stdout",
     "output_type": "stream",
     "text": [
      "My name is: Mohammad and my family name is Amini\n"
     ]
    }
   ],
   "source": [
    "print('My name is: {} and my family name is {}'.format( name, family_name))"
   ]
  },
  {
   "cell_type": "markdown",
   "id": "47e1892d",
   "metadata": {},
   "source": [
    "## Data Types"
   ]
  },
  {
   "cell_type": "code",
   "execution_count": 11,
   "id": "e78b2443",
   "metadata": {},
   "outputs": [
    {
     "data": {
      "text/plain": [
       "34"
      ]
     },
     "execution_count": 11,
     "metadata": {},
     "output_type": "execute_result"
    }
   ],
   "source": [
    "int(34.9)"
   ]
  },
  {
   "cell_type": "code",
   "execution_count": 12,
   "id": "45a1918b",
   "metadata": {},
   "outputs": [
    {
     "data": {
      "text/plain": [
       "35"
      ]
     },
     "execution_count": 12,
     "metadata": {},
     "output_type": "execute_result"
    }
   ],
   "source": [
    "round(34.9)"
   ]
  },
  {
   "cell_type": "markdown",
   "id": "b68275f5",
   "metadata": {},
   "source": [
    "## Strings"
   ]
  },
  {
   "cell_type": "code",
   "execution_count": 13,
   "id": "fef9d887",
   "metadata": {},
   "outputs": [
    {
     "name": "stdout",
     "output_type": "stream",
     "text": [
      "Hello!\n"
     ]
    }
   ],
   "source": [
    "_str = 'Hello!'\n",
    "print(_str\n",
    "     )"
   ]
  },
  {
   "cell_type": "code",
   "execution_count": 14,
   "id": "cdbb9a30",
   "metadata": {},
   "outputs": [
    {
     "data": {
      "text/plain": [
       "'!'"
      ]
     },
     "execution_count": 14,
     "metadata": {},
     "output_type": "execute_result"
    }
   ],
   "source": [
    "_str[-1]"
   ]
  },
  {
   "cell_type": "code",
   "execution_count": 17,
   "id": "686c80fa",
   "metadata": {},
   "outputs": [
    {
     "data": {
      "text/plain": [
       "'H'"
      ]
     },
     "execution_count": 17,
     "metadata": {},
     "output_type": "execute_result"
    }
   ],
   "source": [
    "_str[0]"
   ]
  },
  {
   "cell_type": "code",
   "execution_count": 18,
   "id": "64d8fbb2",
   "metadata": {},
   "outputs": [
    {
     "data": {
      "text/plain": [
       "6"
      ]
     },
     "execution_count": 18,
     "metadata": {},
     "output_type": "execute_result"
    }
   ],
   "source": [
    "len(_str)"
   ]
  },
  {
   "cell_type": "code",
   "execution_count": 20,
   "id": "4801ea92",
   "metadata": {},
   "outputs": [
    {
     "data": {
      "text/plain": [
       "'llo'"
      ]
     },
     "execution_count": 20,
     "metadata": {},
     "output_type": "execute_result"
    }
   ],
   "source": [
    "_str[2:5]"
   ]
  },
  {
   "cell_type": "code",
   "execution_count": 26,
   "id": "5b3bdf3d",
   "metadata": {},
   "outputs": [
    {
     "data": {
      "text/plain": [
       "'e'"
      ]
     },
     "execution_count": 26,
     "metadata": {},
     "output_type": "execute_result"
    }
   ],
   "source": [
    "_str[1:2]"
   ]
  },
  {
   "cell_type": "code",
   "execution_count": 28,
   "id": "3cdcbb91",
   "metadata": {},
   "outputs": [
    {
     "data": {
      "text/plain": [
       "'Hlo'"
      ]
     },
     "execution_count": 28,
     "metadata": {},
     "output_type": "execute_result"
    }
   ],
   "source": [
    "_str[0:5:2]"
   ]
  },
  {
   "cell_type": "code",
   "execution_count": 30,
   "id": "0211d969",
   "metadata": {},
   "outputs": [
    {
     "data": {
      "text/plain": [
       "'!olleH'"
      ]
     },
     "execution_count": 30,
     "metadata": {},
     "output_type": "execute_result"
    }
   ],
   "source": [
    "_str[5::-1]"
   ]
  },
  {
   "cell_type": "code",
   "execution_count": 31,
   "id": "a4cbc786",
   "metadata": {},
   "outputs": [
    {
     "data": {
      "text/plain": [
       "'!olleH'"
      ]
     },
     "execution_count": 31,
     "metadata": {},
     "output_type": "execute_result"
    }
   ],
   "source": [
    "_str[::-1]"
   ]
  },
  {
   "cell_type": "code",
   "execution_count": 32,
   "id": "2ee20534",
   "metadata": {},
   "outputs": [],
   "source": [
    "س1= 'علی'"
   ]
  },
  {
   "cell_type": "code",
   "execution_count": 38,
   "id": "ab522eab",
   "metadata": {},
   "outputs": [],
   "source": [
    "s1 = 'Ali '"
   ]
  },
  {
   "cell_type": "code",
   "execution_count": 35,
   "id": "737346a1",
   "metadata": {},
   "outputs": [
    {
     "data": {
      "text/plain": [
       "'AliAliAliAli'"
      ]
     },
     "execution_count": 35,
     "metadata": {},
     "output_type": "execute_result"
    }
   ],
   "source": [
    "4* s1"
   ]
  },
  {
   "cell_type": "code",
   "execution_count": 36,
   "id": "fb47ea52",
   "metadata": {},
   "outputs": [
    {
     "data": {
      "text/plain": [
       "True"
      ]
     },
     "execution_count": 36,
     "metadata": {},
     "output_type": "execute_result"
    }
   ],
   "source": [
    "'li' in s1"
   ]
  },
  {
   "cell_type": "code",
   "execution_count": 39,
   "id": "334ed476",
   "metadata": {},
   "outputs": [
    {
     "data": {
      "text/plain": [
       "'Ali'"
      ]
     },
     "execution_count": 39,
     "metadata": {},
     "output_type": "execute_result"
    }
   ],
   "source": [
    "s1.strip()"
   ]
  },
  {
   "cell_type": "code",
   "execution_count": 40,
   "id": "72e7de45",
   "metadata": {},
   "outputs": [
    {
     "data": {
      "text/plain": [
       "0"
      ]
     },
     "execution_count": 40,
     "metadata": {},
     "output_type": "execute_result"
    }
   ],
   "source": [
    "s1.find('Al')"
   ]
  },
  {
   "cell_type": "code",
   "execution_count": null,
   "id": "a54f10e7",
   "metadata": {},
   "outputs": [],
   "source": []
  }
 ],
 "metadata": {
  "kernelspec": {
   "display_name": "Python 3 (ipykernel)",
   "language": "python",
   "name": "python3"
  },
  "language_info": {
   "codemirror_mode": {
    "name": "ipython",
    "version": 3
   },
   "file_extension": ".py",
   "mimetype": "text/x-python",
   "name": "python",
   "nbconvert_exporter": "python",
   "pygments_lexer": "ipython3",
   "version": "3.9.13"
  }
 },
 "nbformat": 4,
 "nbformat_minor": 5
}
