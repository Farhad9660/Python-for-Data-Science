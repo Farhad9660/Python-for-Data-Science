{
 "cells": [
  {
   "cell_type": "markdown",
   "id": "c5faa6bc",
   "metadata": {},
   "source": [
    "\n",
    "<div class=\"alert alert-info\">\n",
    "  <h1>Session 3: Tuples, Sets, Dictionaries, functions, Lambda expressions, Exception Handling</h1>\n",
    "</div>"
   ]
  },
  {
   "cell_type": "markdown",
   "id": "e66da2a8",
   "metadata": {},
   "source": [
    "# Tuple Data Type"
   ]
  },
  {
   "cell_type": "code",
   "execution_count": 3,
   "id": "4ab06938",
   "metadata": {},
   "outputs": [],
   "source": [
    "# tuples are immutable"
   ]
  },
  {
   "cell_type": "code",
   "execution_count": 204,
   "id": "a48ea941",
   "metadata": {},
   "outputs": [],
   "source": [
    "t = (1,'a', 'uncle')"
   ]
  },
  {
   "cell_type": "code",
   "execution_count": 194,
   "id": "7e7c41c3",
   "metadata": {},
   "outputs": [
    {
     "data": {
      "text/plain": [
       "1"
      ]
     },
     "execution_count": 194,
     "metadata": {},
     "output_type": "execute_result"
    }
   ],
   "source": [
    "t[0]"
   ]
  },
  {
   "cell_type": "code",
   "execution_count": 201,
   "id": "5fe20530",
   "metadata": {},
   "outputs": [
    {
     "data": {
      "text/plain": [
       "3"
      ]
     },
     "execution_count": 201,
     "metadata": {},
     "output_type": "execute_result"
    }
   ],
   "source": [
    "len(t)"
   ]
  },
  {
   "cell_type": "code",
   "execution_count": 195,
   "id": "12ea40b4",
   "metadata": {
    "scrolled": true
   },
   "outputs": [
    {
     "data": {
      "text/plain": [
       "'uncle'"
      ]
     },
     "execution_count": 195,
     "metadata": {},
     "output_type": "execute_result"
    }
   ],
   "source": [
    "t[2]"
   ]
  },
  {
   "cell_type": "code",
   "execution_count": 205,
   "id": "acfdcc77",
   "metadata": {},
   "outputs": [
    {
     "data": {
      "text/plain": [
       "('a', 'uncle')"
      ]
     },
     "execution_count": 205,
     "metadata": {},
     "output_type": "execute_result"
    }
   ],
   "source": [
    "t[1:3]"
   ]
  },
  {
   "cell_type": "code",
   "execution_count": 196,
   "id": "2cbea37b",
   "metadata": {},
   "outputs": [],
   "source": [
    "l = [1,2,3]\n",
    "t = (1,2,3)"
   ]
  },
  {
   "cell_type": "code",
   "execution_count": 197,
   "id": "31e9591c",
   "metadata": {},
   "outputs": [],
   "source": [
    "l[1] = 7"
   ]
  },
  {
   "cell_type": "code",
   "execution_count": 198,
   "id": "ce56a733",
   "metadata": {
    "scrolled": true
   },
   "outputs": [
    {
     "data": {
      "text/plain": [
       "[1, 7, 3]"
      ]
     },
     "execution_count": 198,
     "metadata": {},
     "output_type": "execute_result"
    }
   ],
   "source": [
    "l"
   ]
  },
  {
   "cell_type": "code",
   "execution_count": 199,
   "id": "52568231",
   "metadata": {},
   "outputs": [
    {
     "ename": "TypeError",
     "evalue": "'tuple' object does not support item assignment",
     "output_type": "error",
     "traceback": [
      "\u001b[1;31m---------------------------------------------------------------------------\u001b[0m",
      "\u001b[1;31mTypeError\u001b[0m                                 Traceback (most recent call last)",
      "\u001b[1;32m<ipython-input-199-643db1477762>\u001b[0m in \u001b[0;36m<module>\u001b[1;34m\u001b[0m\n\u001b[1;32m----> 1\u001b[1;33m \u001b[0mt\u001b[0m\u001b[1;33m[\u001b[0m\u001b[1;36m1\u001b[0m\u001b[1;33m]\u001b[0m\u001b[1;33m=\u001b[0m\u001b[1;36m7\u001b[0m\u001b[1;33m\u001b[0m\u001b[1;33m\u001b[0m\u001b[0m\n\u001b[0m",
      "\u001b[1;31mTypeError\u001b[0m: 'tuple' object does not support item assignment"
     ]
    }
   ],
   "source": [
    "t[1] = 7"
   ]
  },
  {
   "cell_type": "code",
   "execution_count": 200,
   "id": "de1ed988",
   "metadata": {},
   "outputs": [
    {
     "ename": "TypeError",
     "evalue": "'tuple' object doesn't support item deletion",
     "output_type": "error",
     "traceback": [
      "\u001b[1;31m---------------------------------------------------------------------------\u001b[0m",
      "\u001b[1;31mTypeError\u001b[0m                                 Traceback (most recent call last)",
      "\u001b[1;32m<ipython-input-200-77cea8bc7ee1>\u001b[0m in \u001b[0;36m<module>\u001b[1;34m\u001b[0m\n\u001b[1;32m----> 1\u001b[1;33m \u001b[1;32mdel\u001b[0m \u001b[0mt\u001b[0m\u001b[1;33m[\u001b[0m\u001b[1;36m1\u001b[0m\u001b[1;33m]\u001b[0m\u001b[1;33m\u001b[0m\u001b[1;33m\u001b[0m\u001b[0m\n\u001b[0m",
      "\u001b[1;31mTypeError\u001b[0m: 'tuple' object doesn't support item deletion"
     ]
    }
   ],
   "source": [
    "del t[1]"
   ]
  },
  {
   "cell_type": "code",
   "execution_count": 202,
   "id": "320ce1cc",
   "metadata": {},
   "outputs": [
    {
     "data": {
      "text/plain": [
       "['__add__',\n",
       " '__class__',\n",
       " '__contains__',\n",
       " '__delattr__',\n",
       " '__dir__',\n",
       " '__doc__',\n",
       " '__eq__',\n",
       " '__format__',\n",
       " '__ge__',\n",
       " '__getattribute__',\n",
       " '__getitem__',\n",
       " '__getnewargs__',\n",
       " '__gt__',\n",
       " '__hash__',\n",
       " '__init__',\n",
       " '__init_subclass__',\n",
       " '__iter__',\n",
       " '__le__',\n",
       " '__len__',\n",
       " '__lt__',\n",
       " '__mul__',\n",
       " '__ne__',\n",
       " '__new__',\n",
       " '__reduce__',\n",
       " '__reduce_ex__',\n",
       " '__repr__',\n",
       " '__rmul__',\n",
       " '__setattr__',\n",
       " '__sizeof__',\n",
       " '__str__',\n",
       " '__subclasshook__',\n",
       " 'count',\n",
       " 'index']"
      ]
     },
     "execution_count": 202,
     "metadata": {},
     "output_type": "execute_result"
    }
   ],
   "source": [
    "dir(t)"
   ]
  },
  {
   "cell_type": "markdown",
   "id": "bf70c80c",
   "metadata": {},
   "source": [
    "## converting tuple and list together"
   ]
  },
  {
   "cell_type": "code",
   "execution_count": 206,
   "id": "44733dde",
   "metadata": {},
   "outputs": [],
   "source": [
    "l = [1,2,3,'a', 'abc']"
   ]
  },
  {
   "cell_type": "code",
   "execution_count": 208,
   "id": "7e9b32fe",
   "metadata": {},
   "outputs": [
    {
     "data": {
      "text/plain": [
       "(1, 2, 3, 'a', 'abc')"
      ]
     },
     "execution_count": 208,
     "metadata": {},
     "output_type": "execute_result"
    }
   ],
   "source": [
    "tuple(l)"
   ]
  },
  {
   "cell_type": "code",
   "execution_count": 209,
   "id": "809a59d7",
   "metadata": {},
   "outputs": [
    {
     "data": {
      "text/plain": [
       "[1, 2, 3, 'a', 'abc']"
      ]
     },
     "execution_count": 209,
     "metadata": {},
     "output_type": "execute_result"
    }
   ],
   "source": [
    "list((1, 2, 3, 'a', 'abc'))"
   ]
  },
  {
   "cell_type": "code",
   "execution_count": 210,
   "id": "d3cc41a2",
   "metadata": {},
   "outputs": [
    {
     "data": {
      "text/plain": [
       "['S', 't', 'u', 'd', 'e', 'n', 't']"
      ]
     },
     "execution_count": 210,
     "metadata": {},
     "output_type": "execute_result"
    }
   ],
   "source": [
    "list('Student')"
   ]
  },
  {
   "cell_type": "code",
   "execution_count": 211,
   "id": "fd06580d",
   "metadata": {},
   "outputs": [
    {
     "data": {
      "text/plain": [
       "('S', 't', 'u', 'd', 'e', 'n', 't')"
      ]
     },
     "execution_count": 211,
     "metadata": {},
     "output_type": "execute_result"
    }
   ],
   "source": [
    "tuple('Student')"
   ]
  },
  {
   "cell_type": "markdown",
   "id": "7b57afde",
   "metadata": {},
   "source": [
    "# Sets"
   ]
  },
  {
   "cell_type": "markdown",
   "id": "6d313e39",
   "metadata": {},
   "source": [
    "#### A set is an unordered collection with no duplicate elements. Basic uses include membership testing and eliminating duplicate entries. Set objects also support mathematical operations like union, intersection, difference, and symmetric difference."
   ]
  },
  {
   "cell_type": "code",
   "execution_count": 212,
   "id": "5c5571dc",
   "metadata": {},
   "outputs": [],
   "source": [
    "s = {1,2,3}"
   ]
  },
  {
   "cell_type": "code",
   "execution_count": 213,
   "id": "7bac62f8",
   "metadata": {},
   "outputs": [
    {
     "data": {
      "text/plain": [
       "{1, 2, 3}"
      ]
     },
     "execution_count": 213,
     "metadata": {},
     "output_type": "execute_result"
    }
   ],
   "source": [
    "s"
   ]
  },
  {
   "cell_type": "code",
   "execution_count": 215,
   "id": "df8431ea",
   "metadata": {},
   "outputs": [],
   "source": [
    "s= {1,2,3,4,1,3,2}"
   ]
  },
  {
   "cell_type": "code",
   "execution_count": 216,
   "id": "731bab55",
   "metadata": {},
   "outputs": [
    {
     "data": {
      "text/plain": [
       "{1, 2, 3, 4}"
      ]
     },
     "execution_count": 216,
     "metadata": {},
     "output_type": "execute_result"
    }
   ],
   "source": [
    "s"
   ]
  },
  {
   "cell_type": "code",
   "execution_count": 217,
   "id": "55ae3603",
   "metadata": {},
   "outputs": [
    {
     "data": {
      "text/plain": [
       "{'a', 'abc', 'b'}"
      ]
     },
     "execution_count": 217,
     "metadata": {},
     "output_type": "execute_result"
    }
   ],
   "source": [
    "s = {'a', 'abc', 'b', 'a'}\n",
    "s"
   ]
  },
  {
   "cell_type": "code",
   "execution_count": 218,
   "id": "255f8156",
   "metadata": {},
   "outputs": [
    {
     "data": {
      "text/plain": [
       "{1, 2, 3}"
      ]
     },
     "execution_count": 218,
     "metadata": {},
     "output_type": "execute_result"
    }
   ],
   "source": [
    "l = [1,2,3]\n",
    "set(l)"
   ]
  },
  {
   "cell_type": "code",
   "execution_count": 219,
   "id": "4c5097fd",
   "metadata": {},
   "outputs": [
    {
     "data": {
      "text/plain": [
       "{2, 3, 4}"
      ]
     },
     "execution_count": 219,
     "metadata": {},
     "output_type": "execute_result"
    }
   ],
   "source": [
    "set((2,3,4))"
   ]
  },
  {
   "cell_type": "code",
   "execution_count": 220,
   "id": "6bc0c2a1",
   "metadata": {},
   "outputs": [
    {
     "data": {
      "text/plain": [
       "set"
      ]
     },
     "execution_count": 220,
     "metadata": {},
     "output_type": "execute_result"
    }
   ],
   "source": [
    "type (s)"
   ]
  },
  {
   "cell_type": "code",
   "execution_count": 221,
   "id": "0051d482",
   "metadata": {},
   "outputs": [
    {
     "ename": "TypeError",
     "evalue": "'set' object is not subscriptable",
     "output_type": "error",
     "traceback": [
      "\u001b[1;31m---------------------------------------------------------------------------\u001b[0m",
      "\u001b[1;31mTypeError\u001b[0m                                 Traceback (most recent call last)",
      "\u001b[1;32m<ipython-input-221-c9c96910e542>\u001b[0m in \u001b[0;36m<module>\u001b[1;34m\u001b[0m\n\u001b[1;32m----> 1\u001b[1;33m \u001b[0ms\u001b[0m\u001b[1;33m[\u001b[0m\u001b[1;36m0\u001b[0m\u001b[1;33m]\u001b[0m\u001b[1;33m\u001b[0m\u001b[1;33m\u001b[0m\u001b[0m\n\u001b[0m",
      "\u001b[1;31mTypeError\u001b[0m: 'set' object is not subscriptable"
     ]
    }
   ],
   "source": [
    "s[0]"
   ]
  },
  {
   "cell_type": "markdown",
   "id": "a5fbe196",
   "metadata": {},
   "source": [
    "## set add() and update()"
   ]
  },
  {
   "cell_type": "code",
   "execution_count": 220,
   "id": "a60284b4",
   "metadata": {},
   "outputs": [],
   "source": [
    "s = {1,2,3}\n",
    "s.add(4)"
   ]
  },
  {
   "cell_type": "code",
   "execution_count": 221,
   "id": "94cef3a6",
   "metadata": {},
   "outputs": [
    {
     "data": {
      "text/plain": [
       "{1, 2, 3, 4}"
      ]
     },
     "execution_count": 221,
     "metadata": {},
     "output_type": "execute_result"
    }
   ],
   "source": [
    "s"
   ]
  },
  {
   "cell_type": "code",
   "execution_count": 222,
   "id": "60826672",
   "metadata": {
    "scrolled": true
   },
   "outputs": [
    {
     "ename": "TypeError",
     "evalue": "add() takes exactly one argument (3 given)",
     "output_type": "error",
     "traceback": [
      "\u001b[1;31m---------------------------------------------------------------------------\u001b[0m",
      "\u001b[1;31mTypeError\u001b[0m                                 Traceback (most recent call last)",
      "\u001b[1;32m<ipython-input-222-6bcf79c65d60>\u001b[0m in \u001b[0;36m<module>\u001b[1;34m\u001b[0m\n\u001b[1;32m----> 1\u001b[1;33m \u001b[0ms\u001b[0m\u001b[1;33m.\u001b[0m\u001b[0madd\u001b[0m\u001b[1;33m(\u001b[0m\u001b[1;36m6\u001b[0m\u001b[1;33m,\u001b[0m\u001b[1;36m7\u001b[0m\u001b[1;33m,\u001b[0m\u001b[1;36m8\u001b[0m\u001b[1;33m)\u001b[0m\u001b[1;33m\u001b[0m\u001b[1;33m\u001b[0m\u001b[0m\n\u001b[0m",
      "\u001b[1;31mTypeError\u001b[0m: add() takes exactly one argument (3 given)"
     ]
    }
   ],
   "source": [
    "s.add(6,7,8)"
   ]
  },
  {
   "cell_type": "code",
   "execution_count": 224,
   "id": "6c8c3ca2",
   "metadata": {},
   "outputs": [],
   "source": [
    "s.update([4,3,5,6])"
   ]
  },
  {
   "cell_type": "code",
   "execution_count": 225,
   "id": "6a16fe58",
   "metadata": {},
   "outputs": [
    {
     "data": {
      "text/plain": [
       "{1, 2, 3, 4, 5, 6}"
      ]
     },
     "execution_count": 225,
     "metadata": {},
     "output_type": "execute_result"
    }
   ],
   "source": [
    "s"
   ]
  },
  {
   "cell_type": "code",
   "execution_count": 226,
   "id": "3a166030",
   "metadata": {},
   "outputs": [],
   "source": [
    "s.update((4,2,5,9))"
   ]
  },
  {
   "cell_type": "code",
   "execution_count": 227,
   "id": "66d4d6f7",
   "metadata": {},
   "outputs": [
    {
     "data": {
      "text/plain": [
       "{1, 2, 3, 4, 5, 6, 9}"
      ]
     },
     "execution_count": 227,
     "metadata": {},
     "output_type": "execute_result"
    }
   ],
   "source": [
    "s"
   ]
  },
  {
   "cell_type": "code",
   "execution_count": 228,
   "id": "80db62b6",
   "metadata": {},
   "outputs": [],
   "source": [
    "s.remove(5)"
   ]
  },
  {
   "cell_type": "code",
   "execution_count": 229,
   "id": "6a7a883f",
   "metadata": {},
   "outputs": [
    {
     "data": {
      "text/plain": [
       "{1, 2, 3, 4, 6, 9}"
      ]
     },
     "execution_count": 229,
     "metadata": {},
     "output_type": "execute_result"
    }
   ],
   "source": [
    "s"
   ]
  },
  {
   "cell_type": "code",
   "execution_count": 230,
   "id": "6ea00b21",
   "metadata": {},
   "outputs": [
    {
     "ename": "KeyError",
     "evalue": "10",
     "output_type": "error",
     "traceback": [
      "\u001b[1;31m---------------------------------------------------------------------------\u001b[0m",
      "\u001b[1;31mKeyError\u001b[0m                                  Traceback (most recent call last)",
      "\u001b[1;32m<ipython-input-230-23b5f1bb77c8>\u001b[0m in \u001b[0;36m<module>\u001b[1;34m\u001b[0m\n\u001b[1;32m----> 1\u001b[1;33m \u001b[0ms\u001b[0m\u001b[1;33m.\u001b[0m\u001b[0mremove\u001b[0m\u001b[1;33m(\u001b[0m\u001b[1;36m10\u001b[0m\u001b[1;33m)\u001b[0m\u001b[1;33m\u001b[0m\u001b[1;33m\u001b[0m\u001b[0m\n\u001b[0m",
      "\u001b[1;31mKeyError\u001b[0m: 10"
     ]
    }
   ],
   "source": [
    "s.remove(10)"
   ]
  },
  {
   "cell_type": "code",
   "execution_count": 231,
   "id": "69372120",
   "metadata": {},
   "outputs": [],
   "source": [
    "s.discard(10)"
   ]
  },
  {
   "cell_type": "code",
   "execution_count": 232,
   "id": "01c5d751",
   "metadata": {},
   "outputs": [
    {
     "data": {
      "text/plain": [
       "{1, 2, 3, 4, 6, 9}"
      ]
     },
     "execution_count": 232,
     "metadata": {},
     "output_type": "execute_result"
    }
   ],
   "source": [
    "s"
   ]
  },
  {
   "cell_type": "code",
   "execution_count": 233,
   "id": "f454e5a5",
   "metadata": {},
   "outputs": [],
   "source": [
    "s.remove(1)"
   ]
  },
  {
   "cell_type": "code",
   "execution_count": 234,
   "id": "7567db3f",
   "metadata": {},
   "outputs": [
    {
     "data": {
      "text/plain": [
       "{2, 3, 4, 6, 9}"
      ]
     },
     "execution_count": 234,
     "metadata": {},
     "output_type": "execute_result"
    }
   ],
   "source": [
    "s"
   ]
  },
  {
   "cell_type": "code",
   "execution_count": 235,
   "id": "c2d85651",
   "metadata": {},
   "outputs": [],
   "source": [
    "s.discard(6)"
   ]
  },
  {
   "cell_type": "code",
   "execution_count": 224,
   "id": "281ce54d",
   "metadata": {},
   "outputs": [
    {
     "data": {
      "text/plain": [
       "{1, 3, 4}"
      ]
     },
     "execution_count": 224,
     "metadata": {},
     "output_type": "execute_result"
    }
   ],
   "source": [
    "s"
   ]
  },
  {
   "cell_type": "code",
   "execution_count": 225,
   "id": "c1689349",
   "metadata": {},
   "outputs": [],
   "source": [
    "a = s.discard(2)\n",
    "a"
   ]
  },
  {
   "cell_type": "markdown",
   "id": "2d0ee0f1",
   "metadata": {},
   "source": [
    "## set union()"
   ]
  },
  {
   "cell_type": "code",
   "execution_count": 244,
   "id": "185abb78",
   "metadata": {},
   "outputs": [
    {
     "data": {
      "text/plain": [
       "{1, 2, 3, 4, 5, 6, 7}"
      ]
     },
     "execution_count": 244,
     "metadata": {},
     "output_type": "execute_result"
    }
   ],
   "source": [
    "s1 = {1,2,3,4}\n",
    "s2 = {3,5,6,7}\n",
    "s1.union(s2)"
   ]
  },
  {
   "cell_type": "code",
   "execution_count": 245,
   "id": "df30ce15",
   "metadata": {},
   "outputs": [
    {
     "data": {
      "text/plain": [
       "{1, 2, 3, 4, 5, 6, 7}"
      ]
     },
     "execution_count": 245,
     "metadata": {},
     "output_type": "execute_result"
    }
   ],
   "source": [
    "s1|s2"
   ]
  },
  {
   "cell_type": "markdown",
   "id": "4e0cc2a5",
   "metadata": {},
   "source": [
    "## set intersection"
   ]
  },
  {
   "cell_type": "code",
   "execution_count": 227,
   "id": "50de7eca",
   "metadata": {},
   "outputs": [
    {
     "data": {
      "text/plain": [
       "{2, 3}"
      ]
     },
     "execution_count": 227,
     "metadata": {},
     "output_type": "execute_result"
    }
   ],
   "source": [
    "s1 = {1, 2, 3}\n",
    "s2 = {2, 3, 4}\n",
    "s3 = {3, 4, 5}\n",
    "s1.intersection(s2)"
   ]
  },
  {
   "cell_type": "code",
   "execution_count": 228,
   "id": "b2bf564f",
   "metadata": {
    "scrolled": true
   },
   "outputs": [
    {
     "data": {
      "text/plain": [
       "{3}"
      ]
     },
     "execution_count": 228,
     "metadata": {},
     "output_type": "execute_result"
    }
   ],
   "source": [
    "s1.intersection(s3)"
   ]
  },
  {
   "cell_type": "code",
   "execution_count": 229,
   "id": "05f54f6b",
   "metadata": {},
   "outputs": [
    {
     "data": {
      "text/plain": [
       "{3}"
      ]
     },
     "execution_count": 229,
     "metadata": {},
     "output_type": "execute_result"
    }
   ],
   "source": [
    "s1&s3"
   ]
  },
  {
   "cell_type": "markdown",
   "id": "8a808852",
   "metadata": {},
   "source": [
    "## set difference"
   ]
  },
  {
   "cell_type": "code",
   "execution_count": 248,
   "id": "5be188b5",
   "metadata": {
    "scrolled": true
   },
   "outputs": [
    {
     "data": {
      "text/plain": [
       "{1}"
      ]
     },
     "execution_count": 248,
     "metadata": {},
     "output_type": "execute_result"
    }
   ],
   "source": [
    "s1.difference(s2)"
   ]
  },
  {
   "cell_type": "code",
   "execution_count": 230,
   "id": "5e1a63cf",
   "metadata": {},
   "outputs": [
    {
     "data": {
      "text/plain": [
       "{1}"
      ]
     },
     "execution_count": 230,
     "metadata": {},
     "output_type": "execute_result"
    }
   ],
   "source": [
    "s1-s2"
   ]
  },
  {
   "cell_type": "code",
   "execution_count": 249,
   "id": "766a41ae",
   "metadata": {
    "scrolled": true
   },
   "outputs": [
    {
     "data": {
      "text/plain": [
       "{1, 4}"
      ]
     },
     "execution_count": 249,
     "metadata": {},
     "output_type": "execute_result"
    }
   ],
   "source": [
    "s1.symmetric_difference(s2)"
   ]
  },
  {
   "cell_type": "code",
   "execution_count": 231,
   "id": "ae83f7c5",
   "metadata": {},
   "outputs": [
    {
     "data": {
      "text/plain": [
       "{1, 4}"
      ]
     },
     "execution_count": 231,
     "metadata": {},
     "output_type": "execute_result"
    }
   ],
   "source": [
    "s1 ^ s2"
   ]
  },
  {
   "cell_type": "markdown",
   "id": "44199f4c",
   "metadata": {},
   "source": [
    "## Dictionaries"
   ]
  },
  {
   "cell_type": "code",
   "execution_count": 251,
   "id": "e00599f6",
   "metadata": {},
   "outputs": [],
   "source": [
    "Capitals = {'Iran': 'Tehran', 'Germany': 'Berlin', 'France': 'Paris'}"
   ]
  },
  {
   "cell_type": "code",
   "execution_count": 252,
   "id": "5109b1e3",
   "metadata": {},
   "outputs": [
    {
     "data": {
      "text/plain": [
       "'Tehran'"
      ]
     },
     "execution_count": 252,
     "metadata": {},
     "output_type": "execute_result"
    }
   ],
   "source": [
    "Capitals['Iran']"
   ]
  },
  {
   "cell_type": "code",
   "execution_count": 254,
   "id": "a4f01102",
   "metadata": {},
   "outputs": [
    {
     "data": {
      "text/plain": [
       "'Paris'"
      ]
     },
     "execution_count": 254,
     "metadata": {},
     "output_type": "execute_result"
    }
   ],
   "source": [
    "Capitals['France']"
   ]
  },
  {
   "cell_type": "code",
   "execution_count": 255,
   "id": "b403516d",
   "metadata": {},
   "outputs": [
    {
     "ename": "KeyError",
     "evalue": "'Spain'",
     "output_type": "error",
     "traceback": [
      "\u001b[1;31m---------------------------------------------------------------------------\u001b[0m",
      "\u001b[1;31mKeyError\u001b[0m                                  Traceback (most recent call last)",
      "\u001b[1;32m<ipython-input-255-2b3b306f1f2c>\u001b[0m in \u001b[0;36m<module>\u001b[1;34m\u001b[0m\n\u001b[1;32m----> 1\u001b[1;33m \u001b[0mCapitals\u001b[0m\u001b[1;33m[\u001b[0m\u001b[1;34m'Spain'\u001b[0m\u001b[1;33m]\u001b[0m\u001b[1;33m\u001b[0m\u001b[1;33m\u001b[0m\u001b[0m\n\u001b[0m",
      "\u001b[1;31mKeyError\u001b[0m: 'Spain'"
     ]
    }
   ],
   "source": [
    "Capitals['Spain']"
   ]
  },
  {
   "cell_type": "markdown",
   "id": "5494781d",
   "metadata": {},
   "source": [
    "### The keys(), values(), and items() Methods "
   ]
  },
  {
   "cell_type": "code",
   "execution_count": 266,
   "id": "2285901c",
   "metadata": {},
   "outputs": [
    {
     "data": {
      "text/plain": [
       "dict_keys(['Iran', 'Germany', 'France'])"
      ]
     },
     "execution_count": 266,
     "metadata": {},
     "output_type": "execute_result"
    }
   ],
   "source": [
    "Capitals.keys()"
   ]
  },
  {
   "cell_type": "code",
   "execution_count": 267,
   "id": "4c7efc2c",
   "metadata": {},
   "outputs": [
    {
     "data": {
      "text/plain": [
       "dict_values(['Tehran', 'Berlin', 'Paris'])"
      ]
     },
     "execution_count": 267,
     "metadata": {},
     "output_type": "execute_result"
    }
   ],
   "source": [
    "Capitals.values()"
   ]
  },
  {
   "cell_type": "code",
   "execution_count": 268,
   "id": "3b984d7b",
   "metadata": {},
   "outputs": [
    {
     "data": {
      "text/plain": [
       "dict_items([('Iran', 'Tehran'), ('Germany', 'Berlin'), ('France', 'Paris')])"
      ]
     },
     "execution_count": 268,
     "metadata": {},
     "output_type": "execute_result"
    }
   ],
   "source": [
    "Capitals.items()"
   ]
  },
  {
   "cell_type": "code",
   "execution_count": 269,
   "id": "16101b62",
   "metadata": {},
   "outputs": [
    {
     "name": "stdout",
     "output_type": "stream",
     "text": [
      "Tehran\n",
      "Berlin\n",
      "Paris\n"
     ]
    }
   ],
   "source": [
    "for v in Capitals.values():\n",
    "    print(v)"
   ]
  },
  {
   "cell_type": "code",
   "execution_count": 271,
   "id": "e07fb95c",
   "metadata": {},
   "outputs": [
    {
     "name": "stdout",
     "output_type": "stream",
     "text": [
      "Iran\n",
      "Germany\n",
      "France\n"
     ]
    }
   ],
   "source": [
    "for k in Capitals.keys():\n",
    "    print(k)"
   ]
  },
  {
   "cell_type": "code",
   "execution_count": 274,
   "id": "cee4f053",
   "metadata": {},
   "outputs": [
    {
     "name": "stdout",
     "output_type": "stream",
     "text": [
      "country : Iran, Capital: Tehran\n",
      "country : Germany, Capital: Berlin\n",
      "country : France, Capital: Paris\n"
     ]
    }
   ],
   "source": [
    "for k , v in Capitals.items():\n",
    "    print('country : {}, Capital: {}'.format(k,v))"
   ]
  },
  {
   "cell_type": "code",
   "execution_count": 275,
   "id": "b63d9b1a",
   "metadata": {},
   "outputs": [
    {
     "data": {
      "text/plain": [
       "True"
      ]
     },
     "execution_count": 275,
     "metadata": {},
     "output_type": "execute_result"
    }
   ],
   "source": [
    "'France' in Capitals.keys()"
   ]
  },
  {
   "cell_type": "code",
   "execution_count": 276,
   "id": "4038d95e",
   "metadata": {},
   "outputs": [
    {
     "data": {
      "text/plain": [
       "True"
      ]
     },
     "execution_count": 276,
     "metadata": {},
     "output_type": "execute_result"
    }
   ],
   "source": [
    "'Tehran' in Capitals.values()"
   ]
  },
  {
   "cell_type": "markdown",
   "id": "09b563d6",
   "metadata": {},
   "source": [
    "### The get() Method"
   ]
  },
  {
   "cell_type": "code",
   "execution_count": 16,
   "id": "720c8cb5",
   "metadata": {
    "scrolled": true
   },
   "outputs": [
    {
     "data": {
      "text/plain": [
       "20"
      ]
     },
     "execution_count": 16,
     "metadata": {},
     "output_type": "execute_result"
    }
   ],
   "source": [
    "sells = {'shirt': 15, 'pants': 20, 'hat': 10}\n",
    "sells['pants']"
   ]
  },
  {
   "cell_type": "code",
   "execution_count": 17,
   "id": "325f8379",
   "metadata": {},
   "outputs": [
    {
     "ename": "KeyError",
     "evalue": "'shoes'",
     "output_type": "error",
     "traceback": [
      "\u001b[1;31m---------------------------------------------------------------------------\u001b[0m",
      "\u001b[1;31mKeyError\u001b[0m                                  Traceback (most recent call last)",
      "\u001b[1;32m<ipython-input-17-4dc7ac9c9ba2>\u001b[0m in \u001b[0;36m<module>\u001b[1;34m\u001b[0m\n\u001b[1;32m----> 1\u001b[1;33m \u001b[0msells\u001b[0m\u001b[1;33m[\u001b[0m\u001b[1;34m'shoes'\u001b[0m\u001b[1;33m]\u001b[0m\u001b[1;33m\u001b[0m\u001b[1;33m\u001b[0m\u001b[0m\n\u001b[0m",
      "\u001b[1;31mKeyError\u001b[0m: 'shoes'"
     ]
    }
   ],
   "source": [
    "sells['shoes']"
   ]
  },
  {
   "cell_type": "code",
   "execution_count": 278,
   "id": "f802c8e6",
   "metadata": {
    "scrolled": true
   },
   "outputs": [
    {
     "data": {
      "text/plain": [
       "20"
      ]
     },
     "execution_count": 278,
     "metadata": {},
     "output_type": "execute_result"
    }
   ],
   "source": [
    "sells.get('pants', 0)"
   ]
  },
  {
   "cell_type": "code",
   "execution_count": 279,
   "id": "4c879d4d",
   "metadata": {},
   "outputs": [
    {
     "data": {
      "text/plain": [
       "0"
      ]
     },
     "execution_count": 279,
     "metadata": {},
     "output_type": "execute_result"
    }
   ],
   "source": [
    "sells.get('shoes', 0)"
   ]
  },
  {
   "cell_type": "code",
   "execution_count": 280,
   "id": "3d9efb54",
   "metadata": {},
   "outputs": [],
   "source": [
    "sells['shoes'] = 10"
   ]
  },
  {
   "cell_type": "markdown",
   "id": "c9e86790",
   "metadata": {},
   "source": [
    "### adding and deleting items"
   ]
  },
  {
   "cell_type": "code",
   "execution_count": 281,
   "id": "bb9027e8",
   "metadata": {},
   "outputs": [
    {
     "data": {
      "text/plain": [
       "{'shirt': 15, 'pants': 20, 'hat': 10, 'shoes': 10}"
      ]
     },
     "execution_count": 281,
     "metadata": {},
     "output_type": "execute_result"
    }
   ],
   "source": [
    "sells"
   ]
  },
  {
   "cell_type": "code",
   "execution_count": 285,
   "id": "35b9888d",
   "metadata": {},
   "outputs": [],
   "source": [
    " del sells['pants']"
   ]
  },
  {
   "cell_type": "code",
   "execution_count": 286,
   "id": "0d9eac1c",
   "metadata": {},
   "outputs": [
    {
     "data": {
      "text/plain": [
       "{'shirt': 15, 'hat': 10, 'shoes': 10}"
      ]
     },
     "execution_count": 286,
     "metadata": {},
     "output_type": "execute_result"
    }
   ],
   "source": [
    "sells"
   ]
  },
  {
   "cell_type": "markdown",
   "id": "361ca098",
   "metadata": {},
   "source": [
    "# Comprehensions"
   ]
  },
  {
   "cell_type": "markdown",
   "id": "44cd8f18",
   "metadata": {},
   "source": [
    "## list Comprehension"
   ]
  },
  {
   "cell_type": "code",
   "execution_count": 118,
   "id": "4151acde",
   "metadata": {},
   "outputs": [],
   "source": [
    "l = [1,3, 7, 11]"
   ]
  },
  {
   "cell_type": "code",
   "execution_count": 119,
   "id": "d635daed",
   "metadata": {},
   "outputs": [
    {
     "name": "stdout",
     "output_type": "stream",
     "text": [
      "0\n",
      "1\n",
      "2\n",
      "3\n"
     ]
    }
   ],
   "source": [
    "ll = [0,0,0,0]\n",
    "for i in l:\n",
    "    print(l.index(i))\n",
    "    ll[l.index(i)] = i*2\n",
    "    "
   ]
  },
  {
   "cell_type": "code",
   "execution_count": 120,
   "id": "aaf51430",
   "metadata": {
    "scrolled": true
   },
   "outputs": [
    {
     "data": {
      "text/plain": [
       "[1, 3, 7, 11]"
      ]
     },
     "execution_count": 120,
     "metadata": {},
     "output_type": "execute_result"
    }
   ],
   "source": [
    "l"
   ]
  },
  {
   "cell_type": "code",
   "execution_count": 121,
   "id": "90959e0d",
   "metadata": {},
   "outputs": [
    {
     "data": {
      "text/plain": [
       "[2, 6, 14, 22]"
      ]
     },
     "execution_count": 121,
     "metadata": {},
     "output_type": "execute_result"
    }
   ],
   "source": [
    "ll"
   ]
  },
  {
   "cell_type": "code",
   "execution_count": 122,
   "id": "4bf8169b",
   "metadata": {},
   "outputs": [
    {
     "data": {
      "text/plain": [
       "[2, 6, 14, 22]"
      ]
     },
     "execution_count": 122,
     "metadata": {},
     "output_type": "execute_result"
    }
   ],
   "source": [
    "[i*2 for i in l]"
   ]
  },
  {
   "cell_type": "code",
   "execution_count": 123,
   "id": "dfd9104e",
   "metadata": {},
   "outputs": [],
   "source": [
    "l2 = [1,2,3,4]\n",
    "l3 = [i*3 for i in l2]"
   ]
  },
  {
   "cell_type": "code",
   "execution_count": 124,
   "id": "52d36c0a",
   "metadata": {},
   "outputs": [
    {
     "data": {
      "text/plain": [
       "[1, 2, 3, 4]"
      ]
     },
     "execution_count": 124,
     "metadata": {},
     "output_type": "execute_result"
    }
   ],
   "source": [
    "l2"
   ]
  },
  {
   "cell_type": "code",
   "execution_count": 125,
   "id": "74d1ed78",
   "metadata": {},
   "outputs": [
    {
     "data": {
      "text/plain": [
       "[3, 6, 9, 12]"
      ]
     },
     "execution_count": 125,
     "metadata": {},
     "output_type": "execute_result"
    }
   ],
   "source": [
    "l3"
   ]
  },
  {
   "cell_type": "code",
   "execution_count": 128,
   "id": "a6dd468a",
   "metadata": {
    "scrolled": true
   },
   "outputs": [
    {
     "data": {
      "text/plain": [
       "['ABC', 'DEF', 'EFG']"
      ]
     },
     "execution_count": 128,
     "metadata": {},
     "output_type": "execute_result"
    }
   ],
   "source": [
    "s = ['abc', 'def', 'efg']\n",
    "[i.upper() for i in s]"
   ]
  },
  {
   "cell_type": "markdown",
   "id": "448be661",
   "metadata": {},
   "source": [
    "### Filter with comprehensions"
   ]
  },
  {
   "cell_type": "code",
   "execution_count": 145,
   "id": "9c8318f8",
   "metadata": {},
   "outputs": [
    {
     "data": {
      "text/plain": [
       "[3, 6]"
      ]
     },
     "execution_count": 145,
     "metadata": {},
     "output_type": "execute_result"
    }
   ],
   "source": [
    "nums = [1,2,3,4,5,6,7,8]\n",
    "[x for x in nums if x%3 == 0 ]"
   ]
  },
  {
   "cell_type": "markdown",
   "id": "c86f85d5",
   "metadata": {},
   "source": [
    "## Set Comprehension"
   ]
  },
  {
   "cell_type": "code",
   "execution_count": 130,
   "id": "09d474ec",
   "metadata": {},
   "outputs": [
    {
     "data": {
      "text/plain": [
       "{'ABC', 'DEF', 'EFG'}"
      ]
     },
     "execution_count": 130,
     "metadata": {},
     "output_type": "execute_result"
    }
   ],
   "source": [
    "s = {'abc', 'def', 'efg'}\n",
    "{i.upper() for i in s}"
   ]
  },
  {
   "cell_type": "code",
   "execution_count": 135,
   "id": "a494431b",
   "metadata": {},
   "outputs": [
    {
     "data": {
      "text/plain": [
       "['ABC', 'DEF', 'EFG']"
      ]
     },
     "execution_count": 135,
     "metadata": {},
     "output_type": "execute_result"
    }
   ],
   "source": [
    "s = {'abc', 'def', 'efg'}\n",
    "[i.upper() for i in s]\n",
    "\n"
   ]
  },
  {
   "cell_type": "markdown",
   "id": "73de15e2",
   "metadata": {},
   "source": [
    "## Dict Comprehension"
   ]
  },
  {
   "cell_type": "code",
   "execution_count": 139,
   "id": "a052fbef",
   "metadata": {},
   "outputs": [
    {
     "data": {
      "text/plain": [
       "{'watch': 20, 'laptop': 40, 'pen': 30}"
      ]
     },
     "execution_count": 139,
     "metadata": {},
     "output_type": "execute_result"
    }
   ],
   "source": [
    "sells = {'watch': 10, 'laptop': 20, 'pen': 15}\n",
    "{k:v*2 for k,v in sells.items() }"
   ]
  },
  {
   "cell_type": "code",
   "execution_count": 142,
   "id": "05100d7a",
   "metadata": {},
   "outputs": [
    {
     "data": {
      "text/plain": [
       "['WATCH:30', 'LAPTOP:60', 'PEN:45']"
      ]
     },
     "execution_count": 142,
     "metadata": {},
     "output_type": "execute_result"
    }
   ],
   "source": [
    "## list from dict\n",
    "['{}:{}'.format(k.upper(), str(v*3)) for k,v in sells.items()]"
   ]
  },
  {
   "cell_type": "code",
   "execution_count": null,
   "id": "f2f6f7f6",
   "metadata": {},
   "outputs": [],
   "source": []
  },
  {
   "cell_type": "markdown",
   "id": "025785db",
   "metadata": {},
   "source": [
    "# Functions"
   ]
  },
  {
   "cell_type": "markdown",
   "id": "fb36b3f8",
   "metadata": {},
   "source": [
    "## define a Function"
   ]
  },
  {
   "cell_type": "markdown",
   "id": "f800bbb1",
   "metadata": {},
   "source": [
    "#### def func_name(arguments):\n",
    "      operations\n",
    "      (return ...)\n"
   ]
  },
  {
   "cell_type": "code",
   "execution_count": 3,
   "id": "4ac28fb3",
   "metadata": {},
   "outputs": [],
   "source": [
    "def say_hello(name):\n",
    "    print('Hello {} !'.format(name))\n",
    "    \n"
   ]
  },
  {
   "cell_type": "code",
   "execution_count": 4,
   "id": "8a1545e9",
   "metadata": {},
   "outputs": [
    {
     "name": "stdout",
     "output_type": "stream",
     "text": [
      "Hello Farhad !\n"
     ]
    }
   ],
   "source": [
    "say_hello('Farhad')"
   ]
  },
  {
   "cell_type": "code",
   "execution_count": 5,
   "id": "b8371b6b",
   "metadata": {},
   "outputs": [
    {
     "name": "stdout",
     "output_type": "stream",
     "text": [
      "Hello Majid !\n"
     ]
    }
   ],
   "source": [
    " a = say_hello('Majid')"
   ]
  },
  {
   "cell_type": "code",
   "execution_count": 9,
   "id": "a62cc454",
   "metadata": {},
   "outputs": [
    {
     "data": {
      "text/plain": [
       "True"
      ]
     },
     "execution_count": 9,
     "metadata": {},
     "output_type": "execute_result"
    }
   ],
   "source": [
    "a is None "
   ]
  },
  {
   "cell_type": "code",
   "execution_count": 10,
   "id": "abde5c34",
   "metadata": {},
   "outputs": [],
   "source": [
    "def avg (a ,b):\n",
    "    print ('a = {} , b = {}'.format(a,b))\n",
    "    return (a+b)/2"
   ]
  },
  {
   "cell_type": "code",
   "execution_count": 11,
   "id": "c2da1235",
   "metadata": {},
   "outputs": [
    {
     "name": "stdout",
     "output_type": "stream",
     "text": [
      "a = 5 , b = 7\n"
     ]
    }
   ],
   "source": [
    "average = avg(5,7)"
   ]
  },
  {
   "cell_type": "code",
   "execution_count": 12,
   "id": "b3af6d11",
   "metadata": {},
   "outputs": [
    {
     "data": {
      "text/plain": [
       "6.0"
      ]
     },
     "execution_count": 12,
     "metadata": {},
     "output_type": "execute_result"
    }
   ],
   "source": [
    "average"
   ]
  },
  {
   "cell_type": "code",
   "execution_count": 13,
   "id": "0765b9dd",
   "metadata": {},
   "outputs": [],
   "source": [
    "def evaluate (grade):\n",
    "    if grade >=18:\n",
    "        return 'excellent'\n",
    "    elif (grade >= 16 and grade<18):\n",
    "        return 'good'\n",
    "    else:\n",
    "        return 'poor'"
   ]
  },
  {
   "cell_type": "code",
   "execution_count": 14,
   "id": "16354b6f",
   "metadata": {},
   "outputs": [],
   "source": [
    "a = evaluate(19)"
   ]
  },
  {
   "cell_type": "code",
   "execution_count": 15,
   "id": "495d0c92",
   "metadata": {},
   "outputs": [
    {
     "data": {
      "text/plain": [
       "'excellent'"
      ]
     },
     "execution_count": 15,
     "metadata": {},
     "output_type": "execute_result"
    }
   ],
   "source": [
    "a"
   ]
  },
  {
   "cell_type": "code",
   "execution_count": 16,
   "id": "ba071610",
   "metadata": {},
   "outputs": [],
   "source": [
    "c = evaluate(14)"
   ]
  },
  {
   "cell_type": "code",
   "execution_count": 17,
   "id": "0d6d67e0",
   "metadata": {},
   "outputs": [
    {
     "data": {
      "text/plain": [
       "'poor'"
      ]
     },
     "execution_count": 17,
     "metadata": {},
     "output_type": "execute_result"
    }
   ],
   "source": [
    "c\n"
   ]
  },
  {
   "cell_type": "code",
   "execution_count": 9,
   "id": "735a95ee",
   "metadata": {},
   "outputs": [],
   "source": [
    "#Comment Here\n",
    "def say_hello(param1='default'):\n",
    "    \"\"\"\n",
    "    This Function says Hello to any name that is present in input\n",
    "    \"\"\"\n",
    "    print('Hello {}'.format(param1))"
   ]
  },
  {
   "cell_type": "code",
   "execution_count": 10,
   "id": "7f5ef051",
   "metadata": {},
   "outputs": [
    {
     "name": "stdout",
     "output_type": "stream",
     "text": [
      "Hello Farhad\n"
     ]
    }
   ],
   "source": [
    "say_hello('Farhad')"
   ]
  },
  {
   "cell_type": "code",
   "execution_count": null,
   "id": "8aac08ff",
   "metadata": {},
   "outputs": [],
   "source": []
  },
  {
   "cell_type": "markdown",
   "id": "d50138ed",
   "metadata": {},
   "source": [
    "### function assignemt"
   ]
  },
  {
   "cell_type": "code",
   "execution_count": 18,
   "id": "f0f99d7a",
   "metadata": {},
   "outputs": [],
   "source": [
    "e = evaluate"
   ]
  },
  {
   "cell_type": "code",
   "execution_count": 19,
   "id": "925771d2",
   "metadata": {},
   "outputs": [
    {
     "data": {
      "text/plain": [
       "<function __main__.evaluate(grade)>"
      ]
     },
     "execution_count": 19,
     "metadata": {},
     "output_type": "execute_result"
    }
   ],
   "source": [
    "e"
   ]
  },
  {
   "cell_type": "code",
   "execution_count": 20,
   "id": "b253df9c",
   "metadata": {},
   "outputs": [
    {
     "data": {
      "text/plain": [
       "function"
      ]
     },
     "execution_count": 20,
     "metadata": {},
     "output_type": "execute_result"
    }
   ],
   "source": [
    "type(e)"
   ]
  },
  {
   "cell_type": "code",
   "execution_count": 21,
   "id": "4e4d14c2",
   "metadata": {},
   "outputs": [
    {
     "data": {
      "text/plain": [
       "'excellent'"
      ]
     },
     "execution_count": 21,
     "metadata": {},
     "output_type": "execute_result"
    }
   ],
   "source": [
    "e(20)"
   ]
  },
  {
   "cell_type": "code",
   "execution_count": 22,
   "id": "59dade16",
   "metadata": {},
   "outputs": [],
   "source": [
    "f = evaluate(20)"
   ]
  },
  {
   "cell_type": "code",
   "execution_count": 23,
   "id": "d2f38954",
   "metadata": {},
   "outputs": [
    {
     "data": {
      "text/plain": [
       "'excellent'"
      ]
     },
     "execution_count": 23,
     "metadata": {},
     "output_type": "execute_result"
    }
   ],
   "source": [
    "f"
   ]
  },
  {
   "cell_type": "code",
   "execution_count": 24,
   "id": "adc306c8",
   "metadata": {},
   "outputs": [],
   "source": [
    "g = evaluate"
   ]
  },
  {
   "cell_type": "code",
   "execution_count": 26,
   "id": "4300c377",
   "metadata": {},
   "outputs": [
    {
     "data": {
      "text/plain": [
       "'excellent'"
      ]
     },
     "execution_count": 26,
     "metadata": {},
     "output_type": "execute_result"
    }
   ],
   "source": [
    "g(20)"
   ]
  },
  {
   "cell_type": "markdown",
   "id": "08b2daca",
   "metadata": {},
   "source": [
    "# Lambda Functions"
   ]
  },
  {
   "cell_type": "markdown",
   "id": "0fc2c7d6",
   "metadata": {},
   "source": [
    "#### lambda arguments: expression"
   ]
  },
  {
   "cell_type": "code",
   "execution_count": 149,
   "id": "f36b4d31",
   "metadata": {},
   "outputs": [
    {
     "data": {
      "text/plain": [
       "4"
      ]
     },
     "execution_count": 149,
     "metadata": {},
     "output_type": "execute_result"
    }
   ],
   "source": [
    "sqr = lambda x:x**2\n",
    "sqr(2)"
   ]
  },
  {
   "cell_type": "code",
   "execution_count": 152,
   "id": "9a234809",
   "metadata": {},
   "outputs": [],
   "source": [
    "def sqr2(n):\n",
    "    return n**2"
   ]
  },
  {
   "cell_type": "code",
   "execution_count": 153,
   "id": "3b07734e",
   "metadata": {},
   "outputs": [
    {
     "data": {
      "text/plain": [
       "25"
      ]
     },
     "execution_count": 153,
     "metadata": {},
     "output_type": "execute_result"
    }
   ],
   "source": [
    "sqr2(5)"
   ]
  },
  {
   "cell_type": "code",
   "execution_count": 154,
   "id": "9e19b50b",
   "metadata": {},
   "outputs": [
    {
     "data": {
      "text/plain": [
       "100"
      ]
     },
     "execution_count": 154,
     "metadata": {},
     "output_type": "execute_result"
    }
   ],
   "source": [
    "sq = sqr2\n",
    "sq(10)"
   ]
  },
  {
   "cell_type": "code",
   "execution_count": 176,
   "id": "e29fa883",
   "metadata": {},
   "outputs": [],
   "source": [
    "## lambda wothout Arguments\n",
    "p = lambda    : 'Hello World'"
   ]
  },
  {
   "cell_type": "code",
   "execution_count": 177,
   "id": "0cb3eee8",
   "metadata": {},
   "outputs": [
    {
     "name": "stdout",
     "output_type": "stream",
     "text": [
      "Hello World\n"
     ]
    }
   ],
   "source": [
    "http://localhost:8888/notebooks/Documents/Python%20Scripts/Pardis-AI/Classs/Session-4-Plan.ipynb#Lambda-functions-can-be-Immediately-Invokedprint(p())"
   ]
  },
  {
   "cell_type": "markdown",
   "id": "c7ae29b7",
   "metadata": {},
   "source": [
    "###  Lambda functions can be Immediately Invoked"
   ]
  },
  {
   "cell_type": "code",
   "execution_count": 179,
   "id": "6a1f8f0f",
   "metadata": {},
   "outputs": [
    {
     "data": {
      "text/plain": [
       "12"
      ]
     },
     "execution_count": 179,
     "metadata": {},
     "output_type": "execute_result"
    }
   ],
   "source": [
    "(lambda a,b: a*b) (3,4)"
   ]
  },
  {
   "cell_type": "code",
   "execution_count": 180,
   "id": "4f1e79b0",
   "metadata": {},
   "outputs": [
    {
     "ename": "SyntaxError",
     "evalue": "invalid syntax (<ipython-input-180-1fb6f66c2134>, line 1)",
     "output_type": "error",
     "traceback": [
      "\u001b[1;36m  File \u001b[1;32m\"<ipython-input-180-1fb6f66c2134>\"\u001b[1;36m, line \u001b[1;32m1\u001b[0m\n\u001b[1;33m    (def mul(a,b): return a*b) (3,4)\u001b[0m\n\u001b[1;37m     ^\u001b[0m\n\u001b[1;31mSyntaxError\u001b[0m\u001b[1;31m:\u001b[0m invalid syntax\n"
     ]
    }
   ],
   "source": [
    "(def mul(a,b): return a*b) (3,4)"
   ]
  },
  {
   "cell_type": "markdown",
   "id": "6ed5640e",
   "metadata": {},
   "source": [
    "### using lambda in filters"
   ]
  },
  {
   "cell_type": "code",
   "execution_count": 190,
   "id": "b7f76ca0",
   "metadata": {},
   "outputs": [
    {
     "name": "stdout",
     "output_type": "stream",
     "text": [
      "[4, 6, 8, 12]\n"
     ]
    }
   ],
   "source": [
    "# Program to filter out only the even items from a list\n",
    "\n",
    "my_list = [1, 5, 4, 6, 8, 11, 3, 12]\n",
    "\n",
    "even_list = list(filter(lambda x: (x%2 == 0) , my_list))\n",
    "\n",
    "print (even_list)"
   ]
  },
  {
   "cell_type": "code",
   "execution_count": 191,
   "id": "cd2a6470",
   "metadata": {},
   "outputs": [
    {
     "data": {
      "text/plain": [
       "False"
      ]
     },
     "execution_count": 191,
     "metadata": {},
     "output_type": "execute_result"
    }
   ],
   "source": [
    "(lambda x:x%2==0) (3)\n"
   ]
  },
  {
   "cell_type": "markdown",
   "id": "a600063f",
   "metadata": {},
   "source": [
    "### using lambda in maps"
   ]
  },
  {
   "cell_type": "code",
   "execution_count": 13,
   "id": "85ff14ba",
   "metadata": {},
   "outputs": [
    {
     "ename": "TypeError",
     "evalue": "unsupported operand type(s) for ** or pow(): 'list' and 'int'",
     "output_type": "error",
     "traceback": [
      "\u001b[1;31m---------------------------------------------------------------------------\u001b[0m",
      "\u001b[1;31mTypeError\u001b[0m                                 Traceback (most recent call last)",
      "\u001b[1;32m<ipython-input-13-bdad266e9782>\u001b[0m in \u001b[0;36m<module>\u001b[1;34m\u001b[0m\n\u001b[1;32m----> 1\u001b[1;33m \u001b[1;33m[\u001b[0m\u001b[1;36m1\u001b[0m\u001b[1;33m,\u001b[0m\u001b[1;36m2\u001b[0m\u001b[1;33m,\u001b[0m\u001b[1;36m3\u001b[0m\u001b[1;33m,\u001b[0m\u001b[1;36m4\u001b[0m\u001b[1;33m,\u001b[0m\u001b[1;36m5\u001b[0m\u001b[1;33m]\u001b[0m\u001b[1;33m**\u001b[0m\u001b[1;36m2\u001b[0m\u001b[1;33m\u001b[0m\u001b[1;33m\u001b[0m\u001b[0m\n\u001b[0m",
      "\u001b[1;31mTypeError\u001b[0m: unsupported operand type(s) for ** or pow(): 'list' and 'int'"
     ]
    }
   ],
   "source": [
    "[1,2,3,4,5]**2"
   ]
  },
  {
   "cell_type": "code",
   "execution_count": 14,
   "id": "7b765127",
   "metadata": {},
   "outputs": [
    {
     "name": "stdout",
     "output_type": "stream",
     "text": [
      "[1, 25, 16, 36, 64, 121, 9, 144]\n"
     ]
    }
   ],
   "source": [
    "# Program to double each item in a list using map()\n",
    "\n",
    "my_list = [1, 5, 4, 6, 8, 11, 3, 12]\n",
    "\n",
    "new_list = list(map(lambda x: x ** 2 , my_list))\n",
    "\n",
    "print(new_list)"
   ]
  },
  {
   "cell_type": "code",
   "execution_count": 193,
   "id": "9d91e6e9",
   "metadata": {},
   "outputs": [
    {
     "name": "stdout",
     "output_type": "stream",
     "text": [
      "['ABC', 'CFG', 'DEF']\n"
     ]
    }
   ],
   "source": [
    "s1 = ['abc', 'cfg', 'def']\n",
    "\n",
    "s2 = list(map(lambda x: x.upper() , s1))\n",
    "\n",
    "print(s2)"
   ]
  },
  {
   "cell_type": "markdown",
   "id": "6ebd7aa5",
   "metadata": {},
   "source": [
    "# Exception Handling"
   ]
  },
  {
   "cell_type": "code",
   "execution_count": 215,
   "id": "29cda99c",
   "metadata": {},
   "outputs": [],
   "source": [
    "def divided_by_2(lis, a):\n",
    "    return [i/a for i in lis]\n",
    "        "
   ]
  },
  {
   "cell_type": "code",
   "execution_count": 5,
   "id": "986e4e22",
   "metadata": {},
   "outputs": [
    {
     "data": {
      "text/plain": [
       "[0.3333333333333333, 0.6666666666666666, 1.0, 1.3333333333333333]"
      ]
     },
     "execution_count": 5,
     "metadata": {},
     "output_type": "execute_result"
    }
   ],
   "source": [
    "divided_by_2([1,2,3,4], 3)\n"
   ]
  },
  {
   "cell_type": "code",
   "execution_count": 206,
   "id": "36761e13",
   "metadata": {},
   "outputs": [
    {
     "ename": "ZeroDivisionError",
     "evalue": "division by zero",
     "output_type": "error",
     "traceback": [
      "\u001b[1;31m---------------------------------------------------------------------------\u001b[0m",
      "\u001b[1;31mZeroDivisionError\u001b[0m                         Traceback (most recent call last)",
      "\u001b[1;32m<ipython-input-206-1fc6e042e559>\u001b[0m in \u001b[0;36m<module>\u001b[1;34m\u001b[0m\n\u001b[1;32m----> 1\u001b[1;33m \u001b[0mdivided_by_2\u001b[0m\u001b[1;33m(\u001b[0m\u001b[1;33m[\u001b[0m\u001b[1;36m1\u001b[0m\u001b[1;33m,\u001b[0m\u001b[1;36m0\u001b[0m\u001b[1;33m,\u001b[0m\u001b[1;36m3\u001b[0m\u001b[1;33m,\u001b[0m\u001b[1;36m5\u001b[0m\u001b[1;33m]\u001b[0m\u001b[1;33m,\u001b[0m \u001b[1;36m0\u001b[0m\u001b[1;33m)\u001b[0m\u001b[1;33m\u001b[0m\u001b[1;33m\u001b[0m\u001b[0m\n\u001b[0m\u001b[0;32m      2\u001b[0m \u001b[0mprint\u001b[0m\u001b[1;33m(\u001b[0m\u001b[1;34m' Next line'\u001b[0m\u001b[1;33m)\u001b[0m\u001b[1;33m\u001b[0m\u001b[1;33m\u001b[0m\u001b[0m\n",
      "\u001b[1;32m<ipython-input-205-ebd92ce4230a>\u001b[0m in \u001b[0;36mdivided_by_2\u001b[1;34m(lis, a)\u001b[0m\n\u001b[0;32m      1\u001b[0m \u001b[1;32mdef\u001b[0m \u001b[0mdivided_by_2\u001b[0m\u001b[1;33m(\u001b[0m\u001b[0mlis\u001b[0m\u001b[1;33m,\u001b[0m \u001b[0ma\u001b[0m\u001b[1;33m)\u001b[0m\u001b[1;33m:\u001b[0m\u001b[1;33m\u001b[0m\u001b[1;33m\u001b[0m\u001b[0m\n\u001b[1;32m----> 2\u001b[1;33m     \u001b[1;32mreturn\u001b[0m \u001b[1;33m[\u001b[0m\u001b[0mi\u001b[0m\u001b[1;33m/\u001b[0m\u001b[0ma\u001b[0m \u001b[1;32mfor\u001b[0m \u001b[0mi\u001b[0m \u001b[1;32min\u001b[0m \u001b[0mlis\u001b[0m\u001b[1;33m]\u001b[0m\u001b[1;33m\u001b[0m\u001b[1;33m\u001b[0m\u001b[0m\n\u001b[0m\u001b[0;32m      3\u001b[0m \u001b[1;33m\u001b[0m\u001b[0m\n",
      "\u001b[1;32m<ipython-input-205-ebd92ce4230a>\u001b[0m in \u001b[0;36m<listcomp>\u001b[1;34m(.0)\u001b[0m\n\u001b[0;32m      1\u001b[0m \u001b[1;32mdef\u001b[0m \u001b[0mdivided_by_2\u001b[0m\u001b[1;33m(\u001b[0m\u001b[0mlis\u001b[0m\u001b[1;33m,\u001b[0m \u001b[0ma\u001b[0m\u001b[1;33m)\u001b[0m\u001b[1;33m:\u001b[0m\u001b[1;33m\u001b[0m\u001b[1;33m\u001b[0m\u001b[0m\n\u001b[1;32m----> 2\u001b[1;33m     \u001b[1;32mreturn\u001b[0m \u001b[1;33m[\u001b[0m\u001b[0mi\u001b[0m\u001b[1;33m/\u001b[0m\u001b[0ma\u001b[0m \u001b[1;32mfor\u001b[0m \u001b[0mi\u001b[0m \u001b[1;32min\u001b[0m \u001b[0mlis\u001b[0m\u001b[1;33m]\u001b[0m\u001b[1;33m\u001b[0m\u001b[1;33m\u001b[0m\u001b[0m\n\u001b[0m\u001b[0;32m      3\u001b[0m \u001b[1;33m\u001b[0m\u001b[0m\n",
      "\u001b[1;31mZeroDivisionError\u001b[0m: division by zero"
     ]
    }
   ],
   "source": [
    "divided_by_2([1,0,3,5], 0)\n",
    "print(' Next line')"
   ]
  },
  {
   "cell_type": "code",
   "execution_count": 3,
   "id": "911a332c",
   "metadata": {},
   "outputs": [],
   "source": [
    "def divided_by_2(lis, a):\n",
    "    try:\n",
    "         return [i/a for i in lis]\n",
    "    except:\n",
    "        print('Error: division by zero!')"
   ]
  },
  {
   "cell_type": "code",
   "execution_count": 4,
   "id": "9f2958ad",
   "metadata": {},
   "outputs": [
    {
     "name": "stdout",
     "output_type": "stream",
     "text": [
      "Error: division by zero!\n",
      " Next line\n"
     ]
    }
   ],
   "source": [
    "divided_by_2([1,0,3,5], 0)\n",
    "print(' Next line')"
   ]
  },
  {
   "cell_type": "code",
   "execution_count": 217,
   "id": "ba84904e",
   "metadata": {},
   "outputs": [],
   "source": [
    "def divided_by_2(lis, a):\n",
    "    try:\n",
    "         return [i/a for i in lis]\n",
    "    except ZeroDivisionError as e:\n",
    "        print('Error: Invalid argument: {} '. format(e))"
   ]
  },
  {
   "cell_type": "code",
   "execution_count": 218,
   "id": "c20cee4b",
   "metadata": {},
   "outputs": [
    {
     "name": "stdout",
     "output_type": "stream",
     "text": [
      "Error: Invalid argument: division by zero \n",
      " Next line\n"
     ]
    }
   ],
   "source": [
    "divided_by_2([1,0,3,5], 0)\n",
    "print(' Next line')"
   ]
  },
  {
   "cell_type": "markdown",
   "id": "07363101",
   "metadata": {},
   "source": [
    "### Finally"
   ]
  },
  {
   "cell_type": "code",
   "execution_count": 6,
   "id": "2c6d9056",
   "metadata": {},
   "outputs": [
    {
     "name": "stdout",
     "output_type": "stream",
     "text": [
      "All Done!\n"
     ]
    }
   ],
   "source": [
    "x = 3\n",
    "y = 2\n",
    "try:\n",
    "    z = x/y\n",
    "except ZeroDivisionError:\n",
    "    print(\"Can't Divide by Zero!\")\n",
    "finally:\n",
    "    print('All Done!')"
   ]
  },
  {
   "cell_type": "code",
   "execution_count": null,
   "id": "c1a40907",
   "metadata": {},
   "outputs": [],
   "source": []
  }
 ],
 "metadata": {
  "kernelspec": {
   "display_name": "Python 3 (ipykernel)",
   "language": "python",
   "name": "python3"
  },
  "language_info": {
   "codemirror_mode": {
    "name": "ipython",
    "version": 3
   },
   "file_extension": ".py",
   "mimetype": "text/x-python",
   "name": "python",
   "nbconvert_exporter": "python",
   "pygments_lexer": "ipython3",
   "version": "3.9.13"
  }
 },
 "nbformat": 4,
 "nbformat_minor": 5
}
